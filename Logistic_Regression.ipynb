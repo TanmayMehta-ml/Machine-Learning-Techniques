{
  "nbformat": 4,
  "nbformat_minor": 0,
  "metadata": {
    "colab": {
      "name": "Logistic Regression",
      "provenance": [],
      "authorship_tag": "ABX9TyMd8SyFKlDMwWn0aObe53/P"
    },
    "kernelspec": {
      "name": "python3",
      "display_name": "Python 3"
    },
    "language_info": {
      "name": "python"
    }
  },
  "cells": [
    {
      "cell_type": "markdown",
      "source": [
        "## Logistic regresion"
      ],
      "metadata": {
        "id": "8Oxp8Ovrf9gN"
      }
    },
    {
      "cell_type": "code",
      "execution_count": 2,
      "metadata": {
        "id": "RQIuyL1pf3Wo"
      },
      "outputs": [],
      "source": [
        "#Basic imports\n",
        "import numpy as np\n",
        "import matplotlib.pyplot as plt\n",
        "import seaborn as sns\n",
        "\n",
        "#For reproducibility\n",
        "np.random.seed(1234)"
      ]
    },
    {
      "cell_type": "markdown",
      "source": [
        "## Implementation"
      ],
      "metadata": {
        "id": "T7Tp3RtugAlM"
      }
    },
    {
      "cell_type": "code",
      "source": [
        "def linear_combination(X:np.ndarray, w:np.ndarray) -> np.ndarray:\n",
        "    '''Calculates linear combination of features.\n",
        "    \n",
        "    The linear combination is calculated witht he following vectorised form\n",
        "\n",
        "    z = Xw\n",
        "\n",
        "    Args:\n",
        "        X: feature matrix with shape(n, m)\n",
        "        w: weight vector with shape(m,)\n",
        "\n",
        "    Returns:\n",
        "        Linear combination of features with shape (n,)\n",
        "    '''\n",
        "\n",
        "    return X @ w\n",
        "\n",
        "def sigmoid(z: np.ndarray) -> np.ndarray:\n",
        "    '''Calculates sigmoid of linear combination of features z\n",
        "    \n",
        "    Args:\n",
        "        z: list of floats\n",
        "\n",
        "    Returns:\n",
        "        Sigmoid function of linear combination of features as an array\n",
        "    '''\n",
        "\n",
        "    return 1/(1 + np.exp(-z))"
      ],
      "metadata": {
        "id": "VauFHwrzf9MM"
      },
      "execution_count": 3,
      "outputs": []
    },
    {
      "cell_type": "markdown",
      "source": [
        "## Inference"
      ],
      "metadata": {
        "id": "NCZCyOBigKAb"
      }
    },
    {
      "cell_type": "code",
      "source": [
        "def predict(X: np.ndarray, w:np.ndarray, threshold:float) -> np.ndarray:\n",
        "    '''Predicts class label for samples\n",
        "    \n",
        "    Args:\n",
        "        X: feature matrix with shape(n, m)\n",
        "        w: weight vector with shape(m,)\n",
        "        threshold: Probability the=reshold for prediction\n",
        "    \n",
        "    Returns:\n",
        "        Predicted class labels\n",
        "    '''\n",
        "    return np.where(sigmoid(linear_combination(X, w)) > threshold, 1, 0)"
      ],
      "metadata": {
        "id": "MUEpQjHogDg9"
      },
      "execution_count": 4,
      "outputs": []
    },
    {
      "cell_type": "markdown",
      "source": [
        "## Loss function"
      ],
      "metadata": {
        "id": "sl_Rn0lugNKs"
      }
    },
    {
      "cell_type": "code",
      "source": [
        "def loss(X:np.ndarray, y:np.ndarray, w:np.ndarray, reg_rate:float) -> float:\n",
        "    '''Calculate loss function for a given weight vactor\n",
        "\n",
        "    Args:\n",
        "        X: feature matrix with shape(n, m)\n",
        "        y: label vector with shape(n,)\n",
        "        w: weight vector with shape(m,)\n",
        "        reg_rate: L2 regularisation rate\n",
        "\n",
        "    Returns:\n",
        "        Loss function\n",
        "    '''\n",
        "    return ((-1*np.sum(y @ np.log(linear_combination(X, w)) + (1 - y) @ np.log(1 - linear_combination(X, w)))) \n",
        "        + reg_rate * np.dot(w.T, w))"
      ],
      "metadata": {
        "id": "ZvoPLjfqgLx8"
      },
      "execution_count": 5,
      "outputs": []
    },
    {
      "cell_type": "markdown",
      "source": [
        "## Gradient of loss function"
      ],
      "metadata": {
        "id": "hDs-P3l3gQgk"
      }
    },
    {
      "cell_type": "code",
      "source": [
        "def calculate_gradient(X:np.ndarray, y:np.ndarray, w:np.ndarray, reg_rate: float) -> np.ndarray:\n",
        "    '''Calculates gradients of loss function wrt weight vector on training set\n",
        "\n",
        "    Args: \n",
        "        X: Feature matrix for training data.\n",
        "        y:Label vector for training data.\n",
        "        reg_rate: regularisation rate\n",
        "\n",
        "    returns:\n",
        "        A vector of gradients\n",
        "    '''\n",
        "\n",
        "    return X.T @ (sigmoid(linear_combination(X, w)) - y) + reg_rate*w"
      ],
      "metadata": {
        "id": "Eezg-E3YgPO8"
      },
      "execution_count": 6,
      "outputs": []
    },
    {
      "cell_type": "markdown",
      "source": [
        "## Gradient Descent"
      ],
      "metadata": {
        "id": "dQkOlOARgTVr"
      }
    },
    {
      "cell_type": "code",
      "source": [
        "def update_weights(w:np.ndarray, grad:np.ndarray, lr:float) -> np.ndarray:\n",
        "    '''Updates the weights based on the gradient of loss function\n",
        "    Args:\n",
        "        1. w: Weight vector\n",
        "        2. grad: gradient of loss w.r.t w\n",
        "        3.  lr: learning rate\n",
        "    Returns:\n",
        "        Updated weights\n",
        "    '''\n",
        "    return (w - lr*grad)\n",
        "\n",
        "def gd(X:np.ndarray, y:np.ndarray, num_epochs:int, lr:float, reg_rate:float) -> np.ndarray:\n",
        "    '''Estimates the parameters of logistic regression model with gradient descent'\n",
        "    \n",
        "    Args:\n",
        "        X: Feaature matrix for training data.\n",
        "        y: Label vector for traaining data.\n",
        "        num_epochs: NUmber of training steps\n",
        "        lr: Learning rate\n",
        "        reg_rate: Regularisation rate\n",
        "\n",
        "    Returns:\n",
        "        Weight vector: Final weight vector\n",
        "    '''\n",
        "\n",
        "    w = np.zeros(X.shape[1])\n",
        "    w_all = []\n",
        "    err_all = []\n",
        "\n",
        "    for i in np.arange(0, num_epochs):\n",
        "        dJdW = calculate_gradient(X, y, w, reg_rate)\n",
        "        w_all.append(w)\n",
        "        err_all.append(err_all)\n",
        "        w = update_weights(w, dJdW, lr)\n",
        "\n",
        "    return w"
      ],
      "metadata": {
        "id": "B4l9OYLYgSSJ"
      },
      "execution_count": 7,
      "outputs": []
    },
    {
      "cell_type": "markdown",
      "source": [
        "## Putting it all together"
      ],
      "metadata": {
        "id": "cVjGGCfUgWo8"
      }
    },
    {
      "cell_type": "code",
      "source": [
        "class LogisticRegression(object):\n",
        "\n",
        "    '''Logistic Regression model\n",
        "\n",
        "        y = sigmoid(X @ w)\n",
        "    '''\n",
        "    \n",
        "    def set_weight_vector(self, w):\n",
        "        self.w = w\n",
        "    \n",
        "    def linear_combination(self, X:np.ndarray) -> np.ndarray:\n",
        "        '''Calculates linear combination of features.\n",
        "    \n",
        "        The linear combination is calculated witht he following vectorised form\n",
        "\n",
        "        z = Xw\n",
        "        Args:\n",
        "            X: feature matrix with shape(n, m)\n",
        "            w: weight vector with shape(m,)\n",
        "\n",
        "        Returns:\n",
        "            Linear combination of features with shape (n,)\n",
        "        \n",
        "        '''\n",
        "        return X @ self.w\n",
        "\n",
        "    def sigmoid(self, z: np.ndarray) -> np.ndarray:\n",
        "        '''Calculates sigmoid of linear combination of features z\n",
        "    \n",
        "         Args:\n",
        "            z: list of floats\n",
        "\n",
        "            Returns:\n",
        "                 Sigmoid function of linear combination of features as an array\n",
        "        '''\n",
        "\n",
        "        return 1/(1 + np.exp(-z))\n",
        "    \n",
        "    def activation(self, X:np.ndarray) -> np.ndarray:\n",
        "        '''Calculates sigmoid activation for logistic regression.\n",
        "        \n",
        "        Args:\n",
        "            X: Feature matrix with shape (n, m)\n",
        "\n",
        "        Returns:\n",
        "            activation vector with shape (n,)\n",
        "        '''\n",
        "        \n",
        "        return self.sigmoid(self.linear_combination(X))\n",
        "\n",
        "    def predict(self, X: np.ndarray, threshold=0.5) -> np.ndarray:\n",
        "        '''Predicts class label for samples\n",
        "\n",
        "        Args:\n",
        "            X: feature matrix with shape(n, m)\n",
        "            w: weight vector with shape(m,)\n",
        "            threshold: Probability the=reshold for prediction\n",
        "    \n",
        "        Returns:\n",
        "            Predicted class labels\n",
        "        '''\n",
        "        return np.where(self.activation(X) > threshold, 1, 0).astype(int)\n",
        "\n",
        "    def loss(self, X:np.ndarray, y:np.ndarray, reg_rate:float) -> float:\n",
        "        '''Calculate loss function for a given weight vactor\n",
        "\n",
        "        Args:\n",
        "            X: feature matrix with shape(n, m)\n",
        "            y: label vector with shape(n,)\n",
        "            w: weight vector with shape(m,)\n",
        "            reg_rate: L2 regularisation rate\n",
        "\n",
        "        Returns:\n",
        "            Loss function\n",
        "        '''\n",
        "        predicted_prob = self.activation(X)\n",
        "        return (-1 * (np.sum(y @ np.log(predicted_prob)) + (1 - y) @ np.log(1 - predicted_prob)))  + reg_rate * np.dot(self.w.T, self.w)\n",
        "\n",
        "    def calculate_gradient(self, X:np.ndarray, y:np.ndarray, reg_rate: float) -> np.ndarray:\n",
        "        '''Calculates gradients of loss function wrt weight vector on training set\n",
        "\n",
        "        Args: \n",
        "            X: Feature matrix for training data.\n",
        "            y:Label vector for training data.\n",
        "            reg_rate: regularisation rate\n",
        "\n",
        "        Returns:\n",
        "            A vector of gradients\n",
        "        '''\n",
        "\n",
        "        return X.T @ (self.activation(X) - y) + reg_rate * self.w\n",
        "\n",
        "    def update_weights(self, grad:np.ndarray, lr:float) -> np.ndarray:\n",
        "        '''Updates the weights based on the gradient of loss function\n",
        "        Args:\n",
        "            1. w: Weight vector\n",
        "            2. grad: gradient of loss w.r.t w\n",
        "            3.  lr: learning rate\n",
        "        Returns:\n",
        "            Updated weights\n",
        "        '''\n",
        "        return (self.w - lr*grad)\n",
        "\n",
        "    def gd(self, X:np.ndarray, y:np.ndarray, num_epochs:int, lr:float, reg_rate:float) -> np.ndarray:\n",
        "        '''Estimates the parameters of logistic regression model with gradient descent'\n",
        "    \n",
        "        Args:\n",
        "            X: Feaature matrix for training data.\n",
        "            y: Label vector for traaining data.\n",
        "            num_epochs: NUmber of training steps\n",
        "            lr: Learning rate\n",
        "            reg_rate: Regularisation rate\n",
        "\n",
        "        Returns:\n",
        "            Weight vector: Final weight vector\n",
        "        '''\n",
        "\n",
        "        self.w = np.zeros(X.shape[1])\n",
        "        self.w_all = []\n",
        "        self.err_all = []\n",
        "\n",
        "        for i in np.arange(0, num_epochs):\n",
        "            \n",
        "            dJdW = self.calculate_gradient(X, y, reg_rate)\n",
        "            self.w_all.append(self.w)\n",
        "            self.err_all.append(self.loss(X, y, reg_rate))\n",
        "            self.w = self.update_weights(dJdW, lr)\n",
        "\n",
        "        return self.w "
      ],
      "metadata": {
        "id": "v4Dg0PbngVTs"
      },
      "execution_count": 8,
      "outputs": []
    },
    {
      "cell_type": "code",
      "source": [
        "#Polynomial Transformations\n",
        "\n",
        "import itertools\n",
        "import functools\n",
        "\n",
        "def get_combinations(x, degree):\n",
        "    return itertools.combinations_with_replacement(x, degree)\n",
        "\n",
        "def compute_new_features(items):\n",
        "    #reduce(lambda x, y: x * y, items, [1,2,3,4,5]) calculates ((((1*2)*3)*4)*5)\n",
        "    return functools.reduce(lambda x, y: x * y, items)\n",
        "\n",
        "def polynomial_transform(x, degree, logging=False):\n",
        "    # Converts to feature matrix.\n",
        "    if x.ndim == 1:\n",
        "        x = x[:, None]\n",
        "\n",
        "    x_t = x.transpose() #transposes the feature matrix\n",
        "    features = [np.ones(len(x))] # populates 1s as the first features\n",
        "\n",
        "    if logging:\n",
        "        print (\"Input:\", x)\n",
        "    \n",
        "    for degree in range(1, degree+1):\n",
        "        for items in get_combinations(x_t, degree):\n",
        "            features.append(compute_new_features(items))\n",
        "            if logging:\n",
        "                print (items, \":\", compute_new_features(items))\n",
        "\n",
        "    if logging:\n",
        "        print(np.asarray(features).transpose())\n",
        "\n",
        "    return np.asarray(features).transpose()"
      ],
      "metadata": {
        "id": "qMD_eIZ3gadu"
      },
      "execution_count": 9,
      "outputs": []
    },
    {
      "cell_type": "markdown",
      "source": [
        "## Demo #1: Logistic regression for linearly seperable binary classification"
      ],
      "metadata": {
        "id": "8h7YSMrHgctb"
      }
    },
    {
      "cell_type": "code",
      "source": [
        "def create_toy_data():\n",
        "    x0 = np.random.normal(size=50).reshape(-1, 2) - 1\n",
        "    x1 = np.random.normal(size=50).reshape(-1, 2) + 1\n",
        "    return np.concatenate([x0, x1]), np.concatenate([np.zeros(25), np.ones(25)]).astype(int)\n",
        "\n",
        "feature_matrix, label_vector = create_toy_data()\n",
        "print(\"Shape of feature matrix:\", feature_matrix.shape)\n",
        "print(\"Shape of label vector:\", label_vector.shape)"
      ],
      "metadata": {
        "colab": {
          "base_uri": "https://localhost:8080/"
        },
        "id": "gVGd9rfLgbpG",
        "outputId": "3da2af63-7ae8-4ead-e634-90cf8a2b2b18"
      },
      "execution_count": 10,
      "outputs": [
        {
          "output_type": "stream",
          "name": "stdout",
          "text": [
            "Shape of feature matrix: (50, 2)\n",
            "Shape of label vector: (50,)\n"
          ]
        }
      ]
    },
    {
      "cell_type": "code",
      "source": [
        "feature_matrix_bias = polynomial_transform(feature_matrix, degree=1)\n",
        "from sklearn.model_selection import train_test_split\n",
        "x_train, x_test, y_train, y_test = train_test_split(feature_matrix_bias, label_vector, random_state=1)"
      ],
      "metadata": {
        "id": "cj1TV_DDgf27"
      },
      "execution_count": 11,
      "outputs": []
    },
    {
      "cell_type": "code",
      "source": [
        "assert x_train.shape[0] == y_train.shape[0]\n",
        "assert x_test.shape[0] == y_test.shape[0]"
      ],
      "metadata": {
        "id": "RPb3aTe9gi5t"
      },
      "execution_count": 12,
      "outputs": []
    },
    {
      "cell_type": "code",
      "source": [
        "#Visualisation\n",
        "\n",
        "sns.set_style(\"white\")\n",
        "f = plt.figure(figsize=(8,8))\n",
        "sns.set_context(\"notebook\", font_scale=1.5, rc={\"lines.linewidth\": 2.5})\n",
        "\n",
        "sns.scatterplot(data=x_train, x=x_train[:,-2], y = x_train[:,-1], hue = y_train)\n",
        "plt.xlabel('$x_1$')\n",
        "plt.ylabel('$x_2$')\n",
        "plt.show()"
      ],
      "metadata": {
        "colab": {
          "base_uri": "https://localhost:8080/",
          "height": 515
        },
        "id": "LKDgR4z5gkhS",
        "outputId": "524b9b1f-e073-4509-ecb2-07d1f50758cb"
      },
      "execution_count": 13,
      "outputs": [
        {
          "output_type": "display_data",
          "data": {
            "text/plain": [
              "<Figure size 576x576 with 1 Axes>"
            ],
            "image/png": "[encoded data removed]"
          },
          "metadata": {}
        }
      ]
    },
    {
      "cell_type": "markdown",
      "source": [
        "## Model"
      ],
      "metadata": {
        "id": "UhgRUbSggm_E"
      }
    },
    {
      "cell_type": "code",
      "source": [
        "log_reg = LogisticRegression()\n",
        "log_reg.gd(x_train, y_train, num_epochs=1000, lr =1e-2, reg_rate=0)"
      ],
      "metadata": {
        "colab": {
          "base_uri": "https://localhost:8080/"
        },
        "id": "ibgCH72Mglte",
        "outputId": "e13abe89-addf-40ce-d78b-8ff726fc943a"
      },
      "execution_count": 14,
      "outputs": [
        {
          "output_type": "execute_result",
          "data": {
            "text/plain": [
              "array([-1.2732213 ,  2.88002755,  2.43099754])"
            ]
          },
          "metadata": {},
          "execution_count": 14
        }
      ]
    },
    {
      "cell_type": "code",
      "source": [
        "def plot_learning_curve(err):\n",
        "    plt.plot(np.arange(len(err)), err, 'r-')\n",
        "    plt.xlabel('Iter #')\n",
        "    plt.ylabel('$\\mathbf{J(w)}$')"
      ],
      "metadata": {
        "id": "j6ulcuWBgoY9"
      },
      "execution_count": 15,
      "outputs": []
    },
    {
      "cell_type": "code",
      "source": [
        "plot_learning_curve(log_reg.err_all)"
      ],
      "metadata": {
        "colab": {
          "base_uri": "https://localhost:8080/",
          "height": 298
        },
        "id": "rS7CTstNgs5C",
        "outputId": "a6c5b25d-59b9-4897-ee94-42e2361b349b"
      },
      "execution_count": 16,
      "outputs": [
        {
          "output_type": "display_data",
          "data": {
            "text/plain": [
              "<Figure size 432x288 with 1 Axes>"
            ],
            "image/png": "[encoded data removed]"
          },
          "metadata": {}
        }
      ]
    },
    {
      "cell_type": "code",
      "source": [
        "def visualize_model(X_train, labels, lsc_obj, degree=1):\n",
        "    \n",
        "    f = plt.figure(figsize=(8, 8))\n",
        "\n",
        "    #compute xlim and ylim\n",
        "    x1_min = np.min(x_train[:, 1])\n",
        "    x1_max = np.max(x_train[:, 1])\n",
        "    x2_min = np.min(x_train[:, 2])\n",
        "    x2_max = np.max(x_train[:, 2])\n",
        "\n",
        "    x1_test, x2_test = np.meshgrid(np.linspace(x1_min, x1_max, 100), np.linspace(x2_min, x2_max, 100))\n",
        "    x_test = np.array([x1_test, x2_test]).reshape(2, -1).T\n",
        "    x_test_poly = polynomial_transform(x_test, degree=degree)\n",
        "    y_test = lsc_obj.predict(x_test_poly)\n",
        "\n",
        "    sns.scatterplot(data=X_train, x=X_train[:,1], y=X_train[:,2], hue=labels)\n",
        "    plt.contourf(x1_test, x2_test, y_test.reshape(100, 100), alpha = 0.5,\n",
        "                levels = np.linspace(0,1,3))\n",
        "    plt.xlabel(\"$x_1$\") \n",
        "    plt.ylabel(\"$x_2$\")\n",
        "    plt.xlim(x1_min, x1_max)\n",
        "    plt.ylim(x2_min, x2_max)\n",
        "    plt.gca().set_aspect('equal', adjustable='box')\n",
        "    plt.show()"
      ],
      "metadata": {
        "id": "ZgfZfXeJgt2S"
      },
      "execution_count": 17,
      "outputs": []
    },
    {
      "cell_type": "code",
      "source": [
        "visualize_model(x_train, y_train, log_reg)"
      ],
      "metadata": {
        "colab": {
          "base_uri": "https://localhost:8080/",
          "height": 522
        },
        "id": "3euKKMr5gvP_",
        "outputId": "28e84ce8-3a16-46ca-8977-64cf5db98b18"
      },
      "execution_count": 18,
      "outputs": [
        {
          "output_type": "display_data",
          "data": {
            "text/plain": [
              "<Figure size 576x576 with 1 Axes>"
            ],
            "image/png": "[encoded data removed]"
          },
          "metadata": {}
        }
      ]
    },
    {
      "cell_type": "markdown",
      "source": [
        "## Model Evaluation"
      ],
      "metadata": {
        "id": "ENHj5qlUgxkT"
      }
    },
    {
      "cell_type": "code",
      "source": [
        "y_test_hat = log_reg.predict(x_test)\n",
        "\n",
        "from sklearn.metrics import classification_report\n",
        "print(classification_report(y_test, y_test_hat, zero_division=0))"
      ],
      "metadata": {
        "colab": {
          "base_uri": "https://localhost:8080/"
        },
        "id": "iMEmumxngwJb",
        "outputId": "4fc39ebf-24a0-4786-a7c8-d7ea2dabb94b"
      },
      "execution_count": 19,
      "outputs": [
        {
          "output_type": "stream",
          "name": "stdout",
          "text": [
            "              precision    recall  f1-score   support\n",
            "\n",
            "           0       0.60      1.00      0.75         3\n",
            "           1       1.00      0.80      0.89        10\n",
            "\n",
            "    accuracy                           0.85        13\n",
            "   macro avg       0.80      0.90      0.82        13\n",
            "weighted avg       0.91      0.85      0.86        13\n",
            "\n"
          ]
        }
      ]
    },
    {
      "cell_type": "markdown",
      "source": [
        "## Demo #2: Non linearly seperable case"
      ],
      "metadata": {
        "id": "jmH67-clg1dT"
      }
    },
    {
      "cell_type": "code",
      "source": [
        "from sklearn.datasets import make_circles\n",
        "feature_matrix, label_vector = make_circles()\n",
        "\n",
        "\n",
        "\n",
        "assert feature_matrix.shape[0] == label_vector.shape[0]\n",
        "\n",
        "x_poly = polynomial_transform(feature_matrix, degree=2)\n",
        "\n",
        "print(\"# features before transformation: \", feature_matrix.shape)\n",
        "print(\"# features before transformation: \", x_poly.shape)"
      ],
      "metadata": {
        "colab": {
          "base_uri": "https://localhost:8080/"
        },
        "id": "NdkT6o-Dg0Rh",
        "outputId": "9842727e-7cec-4732-ce45-38d4fff51774"
      },
      "execution_count": 20,
      "outputs": [
        {
          "output_type": "stream",
          "name": "stdout",
          "text": [
            "# features before transformation:  (100, 2)\n",
            "# features before transformation:  (100, 6)\n"
          ]
        }
      ]
    },
    {
      "cell_type": "code",
      "source": [
        "x_train, x_test, y_train,  y_test = train_test_split(x_poly, label_vector)"
      ],
      "metadata": {
        "id": "X7KQAgmzg63i"
      },
      "execution_count": 21,
      "outputs": []
    },
    {
      "cell_type": "code",
      "source": [
        "assert x_train.shape[0] == y_train.shape[0]\n",
        "assert x_test.shape[0] == y_test.shape[0]"
      ],
      "metadata": {
        "id": "-6Bw3pDFg91i"
      },
      "execution_count": 22,
      "outputs": []
    },
    {
      "cell_type": "code",
      "source": [
        "#Visualisation\n",
        "\n",
        "sns.set_style(\"white\")\n",
        "f = plt.figure(figsize=(8,8))\n",
        "sns.set_context(\"notebook\", font_scale=1.5, rc={\"lines.linewidth\": 2.5})\n",
        "\n",
        "sns.scatterplot(data=x_train, x=x_train[:,-2], y = x_train[:,-1], hue = y_train)\n",
        "plt.xlabel('$x_1$')\n",
        "plt.ylabel('$x_2$')\n",
        "plt.show()"
      ],
      "metadata": {
        "colab": {
          "base_uri": "https://localhost:8080/",
          "height": 515
        },
        "id": "zx-GdjpHg-l2",
        "outputId": "b288e4ae-cde5-402e-93e0-3b5d5b13a0d3"
      },
      "execution_count": 23,
      "outputs": [
        {
          "output_type": "display_data",
          "data": {
            "text/plain": [
              "<Figure size 576x576 with 1 Axes>"
            ],
            "image/png": "[encoded data removed]"
          },
          "metadata": {}
        }
      ]
    },
    {
      "cell_type": "code",
      "source": [
        "log_reg_poly = LogisticRegression()\n",
        "log_reg_poly.gd(x_train, y_train, num_epochs=10000, lr =1e-2, reg_rate=0)"
      ],
      "metadata": {
        "colab": {
          "base_uri": "https://localhost:8080/"
        },
        "id": "YmBiCGvcg_27",
        "outputId": "ec045599-cb8e-4ed3-9be6-f8de24d2c719"
      },
      "execution_count": 24,
      "outputs": [
        {
          "output_type": "execute_result",
          "data": {
            "text/plain": [
              "array([ 2.01311274e+01,  1.42483781e-01,  3.32087000e-02, -2.47275646e+01,\n",
              "       -1.41405455e-02, -2.48258516e+01])"
            ]
          },
          "metadata": {},
          "execution_count": 24
        }
      ]
    },
    {
      "cell_type": "code",
      "source": [
        "plot_learning_curve(log_reg_poly.err_all)"
      ],
      "metadata": {
        "colab": {
          "base_uri": "https://localhost:8080/",
          "height": 298
        },
        "id": "OJdOJiAWhA_g",
        "outputId": "487a08d5-6355-4514-9910-8816982f3e95"
      },
      "execution_count": 25,
      "outputs": [
        {
          "output_type": "display_data",
          "data": {
            "text/plain": [
              "<Figure size 432x288 with 1 Axes>"
            ],
            "image/png": "[encoded data removed]"
          },
          "metadata": {}
        }
      ]
    },
    {
      "cell_type": "code",
      "source": [
        "visualize_model(x_train, y_train, log_reg_poly, degree=2)"
      ],
      "metadata": {
        "colab": {
          "base_uri": "https://localhost:8080/",
          "height": 515
        },
        "id": "cWPb1o4GhB1e",
        "outputId": "3fd4d6be-f8b7-4015-8935-806e3078ab1b"
      },
      "execution_count": 26,
      "outputs": [
        {
          "output_type": "display_data",
          "data": {
            "text/plain": [
              "<Figure size 576x576 with 1 Axes>"
            ],
            "image/png": "[encoded data removed]"
          },
          "metadata": {}
        }
      ]
    },
    {
      "cell_type": "markdown",
      "source": [
        "## Model Evaluation"
      ],
      "metadata": {
        "id": "B8h2QEuThENU"
      }
    },
    {
      "cell_type": "code",
      "source": [
        "from sklearn.metrics import classification_report\n",
        "\n",
        "y_test_hat = log_reg_poly.predict(x_test)\n",
        "print(classification_report(y_test, y_test_hat, zero_division=0))"
      ],
      "metadata": {
        "colab": {
          "base_uri": "https://localhost:8080/"
        },
        "id": "Ypck5EvEhC2t",
        "outputId": "e477241f-2a86-47d8-a903-428d98e7f3ec"
      },
      "execution_count": 27,
      "outputs": [
        {
          "output_type": "stream",
          "name": "stdout",
          "text": [
            "              precision    recall  f1-score   support\n",
            "\n",
            "           0       1.00      1.00      1.00         8\n",
            "           1       1.00      1.00      1.00        17\n",
            "\n",
            "    accuracy                           1.00        25\n",
            "   macro avg       1.00      1.00      1.00        25\n",
            "weighted avg       1.00      1.00      1.00        25\n",
            "\n"
          ]
        }
      ]
    }
  ]
}