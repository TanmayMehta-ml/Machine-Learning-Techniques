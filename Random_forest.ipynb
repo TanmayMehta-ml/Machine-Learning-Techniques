{
  "nbformat": 4,
  "nbformat_minor": 0,
  "metadata": {
    "colab": {
      "name": "Random forest",
      "provenance": [],
      "authorship_tag": "ABX9TyMp+75L97d/mQcUPQqte68e"
    },
    "kernelspec": {
      "name": "python3",
      "display_name": "Python 3"
    },
    "language_info": {
      "name": "python"
    }
  },
  "cells": [
    {
      "cell_type": "markdown",
      "source": [
        "## Random forest"
      ],
      "metadata": {
        "id": "4NvrNo-vrFOs"
      }
    },
    {
      "cell_type": "markdown",
      "source": [
        "### Implementation"
      ],
      "metadata": {
        "id": "DZlmWterrOg-"
      }
    },
    {
      "cell_type": "code",
      "execution_count": 1,
      "metadata": {
        "id": "-28Eq7MFrCua"
      },
      "outputs": [],
      "source": [
        "import numpy as np\n",
        "import pandas as pd\n",
        "from collections import Counter\n",
        "from sklearn.tree import DecisionTreeClassifier"
      ]
    },
    {
      "cell_type": "markdown",
      "source": [
        "###Bagging"
      ],
      "metadata": {
        "id": "ymm2q5PUrRRs"
      }
    },
    {
      "cell_type": "code",
      "source": [
        "def bag(X, y):\n",
        "    \n",
        "    n_samples = X.shape[0]\n",
        "\n",
        "    #Generate a random indices for a sample from the input\n",
        "    indices = np.random.choice(n_samples, size = n_samples, replace=True)\n",
        "    \n",
        "    return X[indices], y[indices]"
      ],
      "metadata": {
        "id": "wzhEYsDErQRO"
      },
      "execution_count": 2,
      "outputs": []
    },
    {
      "cell_type": "code",
      "source": [
        "def most_common_label(y):\n",
        "    counter = Counter(y)\n",
        "    most_common = counter.most_common(1)[0][0]\n",
        "    return most_common"
      ],
      "metadata": {
        "id": "J65ohKC7rS0M"
      },
      "execution_count": 3,
      "outputs": []
    },
    {
      "cell_type": "markdown",
      "source": [
        "### Random forest class"
      ],
      "metadata": {
        "id": "lYJCSJmUrUzs"
      }
    },
    {
      "cell_type": "code",
      "source": [
        "class RandomForest:\n",
        "    def __init__(self, n_trees=10, min_samples_split=2, max_depth=100, max_features=None):\n",
        "        self.n_trees = n_trees\n",
        "        self.min_samples_split = min_samples_split\n",
        "        self.max_depth = max_depth\n",
        "        self.max_features = max_features\n",
        "        self.trees = []\n",
        "\n",
        "    def fit(self, X, y):\n",
        "        \n",
        "        for _ in range(self.n_trees):\n",
        "            tree = DecisionTreeClassifier(\n",
        "                    min_samples_split = self.min_samples_split,\n",
        "                    max_depth = self.max_depth,\n",
        "                    max_features= self.max_features)\n",
        "            \n",
        "            X_sample, y_sample = bag(X, y)\n",
        "            tree.fit(X_sample, y_sample)\n",
        "            self.trees.append(tree)\n",
        "\n",
        "    def predict(self, X):\n",
        "        tree_predict = np.array([tree.predict(X) for tree in self.trees])\n",
        "        tree_predict = np.swapaxes(tree_predict, 0, 1)\n",
        "        y_pred = [most_common_label(tree_pred) for tree_pred in tree_predict]\n",
        "        return np.array(y_pred)"
      ],
      "metadata": {
        "id": "roPpnUe3rT1W"
      },
      "execution_count": 4,
      "outputs": []
    },
    {
      "cell_type": "markdown",
      "source": [
        "## Demonstration on breast cancer dataset"
      ],
      "metadata": {
        "id": "rNWt47ayrXuz"
      }
    },
    {
      "cell_type": "code",
      "source": [
        "from sklearn.datasets import load_breast_cancer\n",
        "from sklearn.model_selection import train_test_split\n",
        "\n",
        "def accuracy(y_true, y_pred):\n",
        "    acc = np.sum(y_true == y_pred) / len(y_true)\n",
        "    return acc\n",
        "\n",
        "X, y = load_breast_cancer(as_frame=True, return_X_y = True)\n",
        "\n",
        "X = X.to_numpy()\n",
        "y = y.to_numpy()\n",
        "\n",
        "X_train, X_test, y_train, y_test = train_test_split(X, y, test_size=0.2, random_state=1)\n",
        "\n",
        "clf = RandomForest(n_trees=10, max_depth=10)\n",
        "\n",
        "clf.fit(X_train, y_train)\n",
        "y_pred = clf.predict(X_test)\n",
        "acc = accuracy(y_test, y_pred)\n",
        "\n",
        "print(\"Accuracy: \", acc)"
      ],
      "metadata": {
        "colab": {
          "base_uri": "https://localhost:8080/"
        },
        "id": "q5Tm7wC8rWvn",
        "outputId": "9cc64770-fe72-4bd5-e598-37e27c83aa9b"
      },
      "execution_count": 5,
      "outputs": [
        {
          "output_type": "stream",
          "name": "stdout",
          "text": [
            "Accuracy:  0.9736842105263158\n"
          ]
        }
      ]
    },
    {
      "cell_type": "code",
      "source": [
        "from sklearn.metrics import confusion_matrix\n",
        "from sklearn.metrics import classification_report\n",
        "\n",
        "print(classification_report(y_test, y_pred))"
      ],
      "metadata": {
        "colab": {
          "base_uri": "https://localhost:8080/"
        },
        "id": "5w4kmeiirZSt",
        "outputId": "6269de75-9f9e-4519-d838-896a7627dc7c"
      },
      "execution_count": 6,
      "outputs": [
        {
          "output_type": "stream",
          "name": "stdout",
          "text": [
            "              precision    recall  f1-score   support\n",
            "\n",
            "           0       1.00      0.93      0.96        42\n",
            "           1       0.96      1.00      0.98        72\n",
            "\n",
            "    accuracy                           0.97       114\n",
            "   macro avg       0.98      0.96      0.97       114\n",
            "weighted avg       0.97      0.97      0.97       114\n",
            "\n"
          ]
        }
      ]
    }
  ]
}