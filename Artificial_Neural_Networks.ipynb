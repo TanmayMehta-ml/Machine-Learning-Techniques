{
  "nbformat": 4,
  "nbformat_minor": 0,
  "metadata": {
    "colab": {
      "name": "Artificial Neural Networks",
      "provenance": [],
      "authorship_tag": "ABX9TyNEJ02MOc1j/S5BAQ9V9mh0"
    },
    "kernelspec": {
      "name": "python3",
      "display_name": "Python 3"
    },
    "language_info": {
      "name": "python"
    }
  },
  "cells": [
    {
      "cell_type": "markdown",
      "source": [
        "## Artificial Neural Networks(ANN)"
      ],
      "metadata": {
        "id": "N9AGVTyvssbl"
      }
    },
    {
      "cell_type": "markdown",
      "source": [
        "### Components"
      ],
      "metadata": {
        "id": "_qM1UOlaszVj"
      }
    },
    {
      "cell_type": "markdown",
      "source": [
        "**Sigmoid**"
      ],
      "metadata": {
        "id": "2fgCCJQSs17F"
      }
    },
    {
      "cell_type": "markdown",
      "source": [
        "![image.png](data:image/png;base64,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)"
      ],
      "metadata": {
        "id": "PA-sQ1M8s5Vj"
      }
    },
    {
      "cell_type": "markdown",
      "source": [
        "**ReLU**\n"
      ],
      "metadata": {
        "id": "XUGxHYRAs7oE"
      }
    },
    {
      "cell_type": "markdown",
      "source": [
        "![image.png](data:image/png;base64,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)"
      ],
      "metadata": {
        "id": "PRsj86SJs_GM"
      }
    },
    {
      "cell_type": "code",
      "execution_count": 1,
      "metadata": {
        "id": "dSRh2hqJsoE_"
      },
      "outputs": [],
      "source": [
        "import numpy as np\n",
        "seed = 42\n",
        "rng = np.random.default_rng(seed==seed)"
      ]
    },
    {
      "cell_type": "code",
      "source": [
        "def sigmoid(z):\n",
        "    return 1 / (1 + np.exp(-z))\n",
        "\n",
        "def grad_sigmoid(z):\n",
        "    return sigmoid(z) * (1 - sigmoid(z))\n",
        "\n",
        "def relu(z):\n",
        "    return np.where(z >= 0, z, 0)\n",
        "\n",
        "def grad_relu(z):\n",
        "    return np.where(z >= 0, 1, 0)\n",
        "\n",
        "# A dictionary of activation functions will be used while inititalising the network\n",
        "hidden_act = {'sigmoid': sigmoid, 'relu': relu}\n",
        "grad_hidden_act = {'sigmoid': grad_sigmoid, 'relu': grad_relu}"
      ],
      "metadata": {
        "id": "v1qv0BXUtCN2"
      },
      "execution_count": 2,
      "outputs": []
    },
    {
      "cell_type": "markdown",
      "source": [
        "## Output layer"
      ],
      "metadata": {
        "id": "VDgk0Hi-tEKE"
      }
    },
    {
      "cell_type": "markdown",
      "source": [
        "**Identity**"
      ],
      "metadata": {
        "id": "WbI_cYQZtJn0"
      }
    },
    {
      "cell_type": "markdown",
      "source": [
        "![image.png](data:image/png;base64,iVBORw0KGgoAAAANSUhEUgAAAF0AAAAgCAYAAABwzXTcAAAAAXNSR0IArs4c6QAAAARnQU1BAACxjwv8YQUAAAAJcEhZcwAAFiUAABYlAUlSJPAAAAUeSURBVGhD7ZpRSFtXGMe/7SUPg449pE+ONSIUbBnasYhFrFI0QkO3mLIHg4PAhDAHdlqqfajaB9uXdBsSB+PqHuIGU0ZHUlaidNxAS/IwjNAmhWEGqyl05IKSQCWBlm/fveckTWISk5tUs5AfXM65n/eee87/3nu+/z3xLSSgwaHyNi8bHCIN0Y+AhuhHQEP0I6C6oscDsGA5B1PrEg+UwasQLJrp3LsRHqhjZPdSFV5soGNQh9aftnhABREXjun1OObe5oH6pEqix1C8rkeddQUrlSvxYA71OjM6HiV4pP6oiuhMKCM6AtUQKoquUR3qBgUM8ki9UYU5PQTL3y6C1DMMF9s1PFYJWjBYRkG7eROW1+M8Vl9ULHrS7wFhE8Bg6oX3eaxSNJ298LkWYPUXD9RjWq1Q9CQEHq6CBGeh90NSqWqcgjMmKrwe8D9lkXqiiOhxCK8vwsxXl+DSQD/0m6dg0R+CwN1VcD9Ovfa0/6tsD9uh5QMWKYjkhYWRfuhoboZzk2vpJzj+xwx0mJchzPcZGmg6aaDSC76QCvt5GJQ1nhz43J7Niy1cGSc3orei8CimhBJ/2tGoowQnb+MeSncEWTybvG9zFXctzz1kBfm5fLP+EMTYXyto1RdwKnQ95dj5DR6oIdSMJ4M8om+jSxZcR375d0VazjauDLMLGJe4rwg42EWvi2QaCxNcMqJ+nG4M70si4kPnNQs5niKePCSwmzzqYjf4IHZEnMwRoqytZxrFHd7WAagaTwb7RGf2jzpxIdeyBVG4wDo494BdLXZ/mnW47KcxhhvzFhy7U6SDz/lbNFy593/zlDCeDHLm9Ai4fiT7RzWt4Qylswz+/Rs2nsiVi/DRSWYNk3tRpSyPCHhvfAnOplvwnakEv/NQUvpTu5Q5HiJbdOkJ+Lys+kl7luSQDAdhTa50nYVWtUZlLwyrE9dA7Cq9gzWNyvFki/4sDG6lYoDTJ7I/dMKPXUqp/bgl7cePvVeGcPJi2MgsREzfw43zZZzXqiEvU4OoHQ9RwDKehqYmXlWIQMjPXvKB1hallNG88y6rSHEymEXY9cNt602AK0sw0XWMB2XklcVmmPEm+X4GO1F4JpcnjsNxJXAAu16Y6miGZrJwqraOKfDu8rYOQs14MuFzOyMm4rScvHQOzEyNCXIpZiVuQ1eEB2VSya6YZeSrj31XnSj6grgd4yl/J4iuWTPZUjv68jmslGX8psYso9rxZJDjXhKUhY00WCPafcwERkU7WlJWLI+jcSh/s2fdpNcw+9k9KqBHdOJkD28nvZGnLbBItn3Hphxjc5dkGA8J9ePJJI9Pj6Fv3op9iph67BsTUJjtY43ue+oS6LslH2fBlX94KIOom4Qjn51+CyIizlm7ebsO9IQLdTDVrjVvu0eF+vFkk0f0XOju2mQBdDh9f/8nUMJnV3x9dZ9IeoXlm17qh9H/jKxEmoxTQtzjOyni5M8Vr2ggf56ZNBiazgEYaQVY+01Mrz9UStIvglPSwrCpB6q5jFYrpEWX7l2G7rY2aOu9DYFXPEhE7jlhmUqt6VPozHI0KU7BZ18Pg9a7DO7NA7J2SUiw9vMCSD0T8MX5/Te5LmAPfBQ942wK0acWs2hu33JPK65FP0RuptjiinJ+dX+uE0I8UIe8ntN3NlC4auEJVN4oOQxNomMtiLGX/JhiNH6YLpkSEmkZxEj4oe6c1ckSeRlEYbAbJ+tccJnGP5AeAQWWARq8SRqiHzoA/wFgx0D0beKUwgAAAABJRU5ErkJggg==)"
      ],
      "metadata": {
        "id": "xiazxg_xtUzk"
      }
    },
    {
      "cell_type": "markdown",
      "source": [
        "**Softmax**"
      ],
      "metadata": {
        "id": "0TBxzA5FtK_7"
      }
    },
    {
      "cell_type": "markdown",
      "source": [
        "![image.png](data:image/png;base64,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)"
      ],
      "metadata": {
        "id": "ksgZ5PTptW_0"
      }
    },
    {
      "cell_type": "code",
      "source": [
        "def identity(z):\n",
        "    return z\n",
        "\n",
        "def softmax(z):\n",
        "    '''Row-wise softmax'''\n",
        "    #Check if z is a matrix\n",
        "    assert z.ndim == 2\n",
        "\n",
        "    #To prevent overflow, subtract max, row-wise\n",
        "    z -= z.max(axis=1, keepdims=True)\n",
        "\n",
        "    #Compute row-wise softmax\n",
        "    prob = np.exp(z) / np.exp(z).sum(axis = 1, keepdims = True)\n",
        "\n",
        "    # Check if each row is a probability distribution\n",
        "    assert np.allclose(prob.sum(axis=1), np.ones(z.shape[0]))\n",
        "    return prob\n",
        "\n",
        "output_act = {'softmax': softmax, 'identity': identity}"
      ],
      "metadata": {
        "id": "VmRfefcLtDQJ"
      },
      "execution_count": 3,
      "outputs": []
    },
    {
      "cell_type": "markdown",
      "source": [
        "## Loss"
      ],
      "metadata": {
        "id": "mgk4Wsyctie8"
      }
    },
    {
      "cell_type": "code",
      "source": [
        "def least_square(y, y_hat):\n",
        "    return 0.5 * np.sum((y_hat - y) * (y_hat - y))\n",
        "\n",
        "def cce(Y, Y_hat):\n",
        "    return -np.sum(Y * np.log(Y_hat))\n",
        "\n",
        "losses = {'least_square': least_square, 'cce': cce}"
      ],
      "metadata": {
        "id": "UxVFf578tGxD"
      },
      "execution_count": 4,
      "outputs": []
    },
    {
      "cell_type": "markdown",
      "source": [
        "## Initialization"
      ],
      "metadata": {
        "id": "HOF2k8ettlrT"
      }
    },
    {
      "cell_type": "code",
      "source": [
        "## Helper function to compute total number of parameters in the network\n",
        "def count_params(layers):\n",
        "    num_params = 0\n",
        "    for l in range(1, len(layers)):\n",
        "        num_weights = layers[l-1] * layers[l]\n",
        "        num_biases = layers[l]\n",
        "        num_params += (num_weights + num_biases)\n",
        "\n",
        "    return num_params\n",
        "\n",
        "#Test\n",
        "assert count_params([64, 5, 10]) == (64 * 5 + 5) + (5 * 10 + 10)"
      ],
      "metadata": {
        "id": "gHRx8csotkIj"
      },
      "execution_count": 5,
      "outputs": []
    },
    {
      "cell_type": "markdown",
      "source": [
        "**Parameter Initilisation**"
      ],
      "metadata": {
        "id": "WZTqpICrtoOD"
      }
    },
    {
      "cell_type": "code",
      "source": [
        "from cv2 import EMD\n",
        "\n",
        "\n",
        "def init_params(layers):\n",
        "    num_params = count_params(layers) # Number of parameters in the network\n",
        "\n",
        "    W = [None for _ in range(len(layers))] # weights\n",
        "    b = [None for _ in range(len(layers))] # biases\n",
        "    gW = [None for _ in range(len(layers))] # gradient of loss wrt weights\n",
        "    gb = [None for _ in range(len(layers))] # grad loss wrt biases\n",
        "\n",
        "    # Sample from N(0,1) to initialise the parameters\n",
        "    theta = rng. standard_normal(num_params) # master params\n",
        "    gtheta = np.zeros(num_params) # master gradients\n",
        "    \n",
        "    #(start, end) specify the portion of the theta that corresponds to the\n",
        "    #parameter, W_l or b_l\n",
        "    start, end = 0, 0\n",
        "    for l in range(1, len(layers)):\n",
        "        #reshape the section (start, end) an assign it to W[l]\n",
        "        end = start + layers[l-1] * layers[l]\n",
        "        W[l] = theta[start: end].reshape(layers[l-1], layers[l])\n",
        "        gW[l] = gtheta[start: end].reshape(layers[l-1], layers[l])\n",
        "\n",
        "        #reshape the section(start, end) and assign it to b[l]\n",
        "        start, end = end, end + layers[l]\n",
        "        b[l] = theta[start: end].reshape(layers[l])\n",
        "        gb[l] = gtheta[start: end].reshape(layers[l])\n",
        "        start = end\n",
        "\n",
        "    return theta, gtheta, W, b, gW, gb\n",
        "\n",
        "## test init_params\n",
        "layers = [64, 32, 10]\n",
        "params = init_params([6, 32, 10])\n",
        "for l in range(1, len(layers)):\n",
        "    #Check if the weights are view of the master vector\n",
        "    assert params[2][l].base is params[0]\n",
        "    assert params[3][l].base is params[0]\n",
        "    assert params[4][l].base is params[1]\n",
        "    assert params[5][l].base is params[1]"
      ],
      "metadata": {
        "id": "ufPCTCsmtnTu"
      },
      "execution_count": 6,
      "outputs": []
    },
    {
      "cell_type": "markdown",
      "source": [
        "## Network Class"
      ],
      "metadata": {
        "id": "sDkFcc4RtsCz"
      }
    },
    {
      "cell_type": "code",
      "source": [
        "class Network:\n",
        "\n",
        "    def __init__(self, layers, activation_choice='relu',\n",
        "                output_choice='softmax', loss_choice='cce'):\n",
        "        \n",
        "        self.layers = layers\n",
        "        # Parameters and gradients\n",
        "        self.theta, self.gtheta, self.W, self.b, self.gW, self.gb = init_params(layers)\n",
        "\n",
        "        #Activation functions\n",
        "        self.ghid = hidden_act[activation_choice]\n",
        "        self.grad_ghid = grad_hidden_act[activation_choice]\n",
        "        self.gout = output_act[output_choice]\n",
        "\n",
        "        #Loss\n",
        "        self.loss = losses[loss_choice]\n",
        "\n",
        "    def forward(self, X):\n",
        "        self.Z = [None for _ in range(len(self.layers))]\n",
        "        self.A = [None for _ in range(len(self.layers))]\n",
        "        self.A[0] = X\n",
        "        self.Z[0] = X\n",
        "\n",
        "        for l in range(1, len(self.layers)):\n",
        "            self.Z[l] = self.A[l-1] @ self.W[l] + self.b[l]\n",
        "            self.A[l] = self.ghid(self.Z[l])\n",
        "        \n",
        "        self.A[-1] = self.gout(self.Z[-1])\n",
        "        return self.A[-1]\n",
        "        \n",
        "    def backward(self, Y, Y_hat):\n",
        "        gZ = [None for _ in range(len(self.layers))]\n",
        "        gA = [None for _ in range(len(self.layers))]\n",
        "        gZ[-1] = Y_hat -Y\n",
        "\n",
        "        for l in range(len(self.layers) - 1, 0, -1):\n",
        "            self.gW[l][:,:] = self.A[l-1].T @ gZ[l]\n",
        "            self.gb[l][:] = np.sum(gZ[l].T, axis = 1)\n",
        "\n",
        "            gA[l-1] = gZ[l] @ self.W[l].T\n",
        "            gZ[l-1] = gA[l-1] * self.grad_ghid(self.Z[l-1])\n",
        "\n",
        "    def fit(self, X, Y,\n",
        "                lr = 0.01, epochs = 100, batch_size = 100):\n",
        "\n",
        "        self.losses = []\n",
        "\n",
        "        for epoch in range(epochs):\n",
        "            #Compute the loss\n",
        "            Y_hat = self.forward(X)\n",
        "            self.losses.append(self.loss(Y, Y_hat))\n",
        "            #Shuffle the dataset\n",
        "            indices = np.arange(X.shape[0])\n",
        "            rng.shuffle(indices)\n",
        "            X, Y = X[indices], Y[indices]\n",
        "            #number of batches\n",
        "            num_batches = X.shape[0] // batch_size\n",
        "            #Mini-batch GD\n",
        "            for b in range(num_batches):\n",
        "                Xb = X[b * batch_size: (b + 1) * batch_size]\n",
        "                Yb = Y[b * batch_size: (b + 1) * batch_size]\n",
        "                #Compute the prediction for this batch\n",
        "                Y_hat_b =  self.forward(Xb)\n",
        "                #Compute the gradients for this batch\n",
        "                self.backward(Yb, Y_hat_b)\n",
        "                #Update the gradients of all parameters\n",
        "                self.theta -= lr*self.gtheta\n",
        "\n",
        "    def predict(self, X):\n",
        "        Y_hat = self.forward(X)\n",
        "        if X.shape[-1] == 1: # regression\n",
        "            return Y_hat\n",
        "\n",
        "        else: #classification\n",
        "            return np.argmax(Y_hat, axis = 1)\n",
        "    "
      ],
      "metadata": {
        "id": "RwXU5KS5tqfe"
      },
      "execution_count": 7,
      "outputs": []
    },
    {
      "cell_type": "markdown",
      "source": [
        "## Demonstration"
      ],
      "metadata": {
        "id": "WiDUF9lMtuqs"
      }
    },
    {
      "cell_type": "code",
      "source": [
        "from unicodedata import digit\n",
        "import matplotlib.pyplot as plt\n",
        "from sklearn.datasets import load_digits\n",
        "digits = load_digits()\n",
        "\n",
        "X = digits.images\n",
        "#Normalising the data\n",
        "X /= np.max(X)\n",
        "y = digits.target\n",
        "plt.imshow(X[0])\n",
        "print(f'Sample image with label {y[0]}')\n",
        "print(X.shape)\n",
        "\n",
        "#Reshape input\n",
        "X = X.reshape(-1, 64)\n",
        "#Input size\n",
        "isize = X.shape[-1]\n",
        "#output size\n",
        "osize = len(np.unique(y))"
      ],
      "metadata": {
        "colab": {
          "base_uri": "https://localhost:8080/",
          "height": 301
        },
        "id": "sBN8Nzp4tt4X",
        "outputId": "61cf1586-75e3-4e22-b15c-877bfa553f7d"
      },
      "execution_count": 8,
      "outputs": [
        {
          "output_type": "stream",
          "name": "stdout",
          "text": [
            "Sample image with label 0\n",
            "(1797, 8, 8)\n"
          ]
        },
        {
          "output_type": "display_data",
          "data": {
            "text/plain": [
              "<Figure size 432x288 with 1 Axes>"
            ],
            "image/png": "[encoded data removed]"
          },
          "metadata": {
            "needs_background": "light"
          }
        }
      ]
    },
    {
      "cell_type": "code",
      "source": [
        "def onehot_encoder(y):\n",
        "    k = len(np.unique(y))\n",
        "    return np.eye(k)[y]"
      ],
      "metadata": {
        "id": "i51Sv0-BtwB1"
      },
      "execution_count": 9,
      "outputs": []
    },
    {
      "cell_type": "code",
      "source": [
        "from sklearn.model_selection import train_test_split\n",
        "\n",
        "X_train, X_test, y_train, y_test = train_test_split(X, y, test_size=0.4, random_state=seed)\n",
        "Y_train = onehot_encoder(y_train)\n",
        "Y_test = onehot_encoder(y_test)\n",
        "\n",
        "print('Training data, shape:', X_train.shape, Y_train.shape)\n",
        "print('Test data, shape:', X_test.shape, Y_test.shape)"
      ],
      "metadata": {
        "colab": {
          "base_uri": "https://localhost:8080/"
        },
        "id": "qM0OCxuWtw1n",
        "outputId": "8eaad796-9cac-49b9-e4d6-1e01b912d9c5"
      },
      "execution_count": 10,
      "outputs": [
        {
          "output_type": "stream",
          "name": "stdout",
          "text": [
            "Training data, shape: (1078, 64) (1078, 10)\n",
            "Test data, shape: (719, 64) (719, 10)\n"
          ]
        }
      ]
    },
    {
      "cell_type": "markdown",
      "source": [
        "## Applying ANN"
      ],
      "metadata": {
        "id": "hGdfQkHktzcd"
      }
    },
    {
      "cell_type": "code",
      "source": [
        "layers = [isize, 32, osize]\n",
        "network = Network(layers, activation_choice='sigmoid',\n",
        "                output_choice='softmax', loss_choice='cce')\n",
        "\n",
        "epochs = 50\n",
        "network.fit(X_train, Y_train, lr=0.01, epochs=epochs, batch_size=10)\n",
        "\n",
        "#plot losses\n",
        "plt.figure(figsize=(8,8))\n",
        "plt.plot(range(epochs), network.losses)\n",
        "plt.title('Loss vs Epochs')\n",
        "plt.xlabel('Epochs')\n",
        "plt.ylabel('CCE Loss')\n",
        "\n",
        "#compute accuracy\n",
        "accuracy = np.sum(network.predict(X_test) == y_test )/ X_test.shape[0]\n",
        "print(f'Test-data size = {X_test.shape[0]}')\n",
        "print(f'Accuracy = {accuracy: .2f}')\n",
        "print(f'Number of parameters = {count_params(layers)}')"
      ],
      "metadata": {
        "colab": {
          "base_uri": "https://localhost:8080/",
          "height": 567
        },
        "id": "VKI13Y-dtxrC",
        "outputId": "e47bef35-380a-47f2-d109-2f46fa5db7c7"
      },
      "execution_count": 11,
      "outputs": [
        {
          "output_type": "stream",
          "name": "stdout",
          "text": [
            "Test-data size = 719\n",
            "Accuracy =  0.96\n",
            "Number of parameters = 2410\n"
          ]
        },
        {
          "output_type": "display_data",
          "data": {
            "text/plain": [
              "<Figure size 576x576 with 1 Axes>"
            ],
            "image/png": "[encoded data removed]"
          },
          "metadata": {
            "needs_background": "light"
          }
        }
      ]
    }
  ]
}