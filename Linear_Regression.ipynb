{
  "nbformat": 4,
  "nbformat_minor": 0,
  "metadata": {
    "colab": {
      "name": "Linear Regression",
      "provenance": [],
      "authorship_tag": "ABX9TyMl8ZmaPlWGK/M3biiX1C41",
      "include_colab_link": true
    },
    "kernelspec": {
      "name": "python3",
      "display_name": "Python 3"
    },
    "language_info": {
      "name": "python"
    }
  },
  "cells": [
    {
      "cell_type": "markdown",
      "metadata": {
        "id": "view-in-github",
        "colab_type": "text"
      },
      "source": [
        "<a href=\"https://colab.research.google.com/github/tanmay21-ai/Machine-Learning-Techniques/blob/main/Linear_Regression.ipynb\" target=\"_parent\"><img src=\"https://colab.research.google.com/assets/colab-badge.svg\" alt=\"Open In Colab\"/></a>"
      ]
    },
    {
      "cell_type": "markdown",
      "source": [
        "# C1: Training Data"
      ],
      "metadata": {
        "id": "UsJVeBmO9vBl"
      }
    },
    {
      "cell_type": "code",
      "execution_count": null,
      "metadata": {
        "id": "ViINEhZBru7R"
      },
      "outputs": [],
      "source": [
        "from IPython.display import display, Math, Latex\n",
        "import numpy as np\n",
        "import matplotlib.pyplot as plt\n",
        "import seaborn as sns\n",
        "\n",
        "%matplotlib inline"
      ]
    },
    {
      "cell_type": "code",
      "source": [
        "w1=3\n",
        "w0=4\n",
        "n=100\n",
        "\n",
        "X = 10 * np.random.rand(n,)\n",
        "\n",
        "# y = 4 +3*x + Noise.\n",
        "y = w0 + w1 * X + np.random.randn(n,)"
      ],
      "metadata": {
        "id": "VrHsywHksNVo"
      },
      "execution_count": null,
      "outputs": []
    },
    {
      "cell_type": "code",
      "source": [
        "print('Shape of training data feature matrix:',X.shape)\n",
        "print('Shape of training data label vector:',y.shape)"
      ],
      "metadata": {
        "colab": {
          "base_uri": "https://localhost:8080/"
        },
        "id": "OjTu1TeHtl8L",
        "outputId": "3a5cde68-29b0-4432-cb31-9af58f54b0d6"
      },
      "execution_count": null,
      "outputs": [
        {
          "output_type": "stream",
          "name": "stdout",
          "text": [
            "Shape of training data feature matrix: (100,)\n",
            "Shape of training data label vector: (100,)\n"
          ]
        }
      ]
    },
    {
      "cell_type": "code",
      "source": [
        "from sklearn.model_selection import train_test_split\n",
        "\n",
        "X_train,X_test, y_train, y_test = train_test_split(X,y,test_size=0.20, random_state = 42)"
      ],
      "metadata": {
        "id": "iq7PI-Latz05"
      },
      "execution_count": null,
      "outputs": []
    },
    {
      "cell_type": "code",
      "source": [
        "print('Shape of the training data feature matrix:',X_train.shape)\n",
        "print('Shape of the training data label vector:',y_train.shape)\n",
        "\n",
        "print('Shape of the test data feature matrix:',X_test.shape)\n",
        "print('Shape of the test data label vector:',y_test.shape)"
      ],
      "metadata": {
        "colab": {
          "base_uri": "https://localhost:8080/"
        },
        "id": "O1rV8ghJuPfd",
        "outputId": "2201ec8d-c1c0-4176-df00-9b5243796e4c"
      },
      "execution_count": null,
      "outputs": [
        {
          "output_type": "stream",
          "name": "stdout",
          "text": [
            "Shape of the training data feature matrix: (80,)\n",
            "Shape of the training data label vector: (80,)\n",
            "Shape of the test data feature matrix: (20,)\n",
            "Shape of the test data label vector: (20,)\n"
          ]
        }
      ]
    },
    {
      "cell_type": "code",
      "source": [
        "X_train[:5]"
      ],
      "metadata": {
        "colab": {
          "base_uri": "https://localhost:8080/"
        },
        "id": "5WkmJxRUutWJ",
        "outputId": "1ecfec2a-c689-44fb-c3e1-5d4b03de1670"
      },
      "execution_count": null,
      "outputs": [
        {
          "output_type": "execute_result",
          "data": {
            "text/plain": [
              "array([2.48700534, 9.95610029, 0.0350398 , 1.506927  , 0.12979582])"
            ]
          },
          "metadata": {},
          "execution_count": 6
        }
      ]
    },
    {
      "cell_type": "code",
      "source": [
        "y_train[:5]"
      ],
      "metadata": {
        "colab": {
          "base_uri": "https://localhost:8080/"
        },
        "id": "gMJCNhNQuxA3",
        "outputId": "8e3f65ab-ce9e-42ca-d0eb-e1c9abaa5a7a"
      },
      "execution_count": null,
      "outputs": [
        {
          "output_type": "execute_result",
          "data": {
            "text/plain": [
              "array([12.82001684, 33.84172209,  4.08428789,  6.5708008 ,  4.25396441])"
            ]
          },
          "metadata": {},
          "execution_count": 7
        }
      ]
    },
    {
      "cell_type": "code",
      "source": [
        "sns.set_style(\"white\")\n",
        "f = plt.figure(figsize =(8,8))\n",
        "sns.set_context(\"notebook\", font_scale=1.5, rc={\"lines.linewidth\":2.5})\n",
        "\n",
        "plt.plot(X_train, y_train, \"b.\")\n",
        "plt.title(\"Data Points\")\n",
        "plt.grid(True)\n",
        "plt.xlabel(\"$x_1$\",fontsize =18)\n",
        "plt.ylabel(\"$y\",rotation=0,fontsize=18)\n",
        "plt.axis([0,10,0,40])\n",
        "\n",
        "plt.show()"
      ],
      "metadata": {
        "colab": {
          "base_uri": "https://localhost:8080/",
          "height": 535
        },
        "id": "2fnt4c2ru2W8",
        "outputId": "3424ae57-9f87-4fd2-dacd-d0f7568d227c"
      },
      "execution_count": null,
      "outputs": [
        {
          "output_type": "display_data",
          "data": {
            "text/plain": [
              "<Figure size 576x576 with 1 Axes>"
            ],
            "image/png": "[encoded data removed]"
          },
          "metadata": {}
        }
      ]
    },
    {
      "cell_type": "code",
      "source": [
        "def add_dummy_feature(x):\n",
        "  return np.column_stack((np.ones(x.shape[0]),x))"
      ],
      "metadata": {
        "id": "NOqYjH9uwd3_"
      },
      "execution_count": null,
      "outputs": []
    },
    {
      "cell_type": "code",
      "source": [
        "import unittest\n",
        "class TestAddDummyFeature(unittest. TestCase):\n",
        "  def test_add_dummy_feature(self):\n",
        "    '''Test case function for add_dummy_feature'''\n",
        "    train_matrix = np.array([[3, 2, 5],[9, 4, 7]])\n",
        "    train_matrix_with_dummy_feature = add_dummy_feature(train_matrix)\n",
        "    # test the shape\n",
        "    self.assertEqual(train_matrix_with_dummy_feature.shape, (2, 4))\n",
        "    # and contents\n",
        "    np.testing.assert_array_equal(\n",
        "    train_matrix_with_dummy_feature,\n",
        "    np.array( [[1, 3, 2, 5], [1, 9, 4, 7]]))\n",
        "unittest.main(argv=[''], defaultTest='TestAddDummyFeature', verbosity=2, exit=False)"
      ],
      "metadata": {
        "colab": {
          "base_uri": "https://localhost:8080/"
        },
        "id": "qGFE3fipwx66",
        "outputId": "fed535a5-f79d-43df-f1f1-8a8d1a9a2a0e"
      },
      "execution_count": null,
      "outputs": [
        {
          "output_type": "stream",
          "name": "stderr",
          "text": [
            "test_add_dummy_feature (__main__.TestAddDummyFeature)\n",
            "Test case function for add_dummy_feature ... ok\n",
            "\n",
            "----------------------------------------------------------------------\n",
            "Ran 1 test in 0.005s\n",
            "\n",
            "OK\n"
          ]
        },
        {
          "output_type": "execute_result",
          "data": {
            "text/plain": [
              "<unittest.main.TestProgram at 0x7fe0bff4f290>"
            ]
          },
          "metadata": {},
          "execution_count": 11
        }
      ]
    },
    {
      "cell_type": "code",
      "source": [
        "add_dummy_feature(np.array([[3, 2], [5, 4]]))"
      ],
      "metadata": {
        "id": "sSy5cTX_yFek",
        "colab": {
          "base_uri": "https://localhost:8080/"
        },
        "outputId": "ab181950-d788-4cff-83ff-453b667dab29"
      },
      "execution_count": null,
      "outputs": [
        {
          "output_type": "execute_result",
          "data": {
            "text/plain": [
              "array([[1., 3., 2.],\n",
              "       [1., 5., 4.]])"
            ]
          },
          "metadata": {},
          "execution_count": 14
        }
      ]
    },
    {
      "cell_type": "code",
      "source": [
        "print (\"Before adding the dummy feature:\\n\", X_train[:5])\n",
        "print (\"\\n\")\n",
        "X_train_with_dummy = add_dummy_feature(X_train)\n",
        "print (\"After adding the dummy feature:\\n\", X_train_with_dummy[:5,:])"
      ],
      "metadata": {
        "colab": {
          "base_uri": "https://localhost:8080/"
        },
        "id": "PhKSgsUm8-_n",
        "outputId": "2d1b563b-eff4-4b96-ff30-6773f795ccb6"
      },
      "execution_count": null,
      "outputs": [
        {
          "output_type": "stream",
          "name": "stdout",
          "text": [
            "Before adding the dummy feature:\n",
            " [2.48700534 9.95610029 0.0350398  1.506927   0.12979582]\n",
            "\n",
            "\n",
            "After adding the dummy feature:\n",
            " [[1.         2.48700534]\n",
            " [1.         9.95610029]\n",
            " [1.         0.0350398 ]\n",
            " [1.         1.506927  ]\n",
            " [1.         0.12979582]]\n"
          ]
        }
      ]
    },
    {
      "cell_type": "markdown",
      "source": [
        "# C2: Model"
      ],
      "metadata": {
        "id": "F0VyDcr_93Jk"
      }
    },
    {
      "cell_type": "code",
      "source": [
        "def predict(X, w):\n",
        "    '''Prediction of output label for a given input. \n",
        "    Args: \n",
        "    X: Feature matrix of shape (n, m+1). \n",
        "    w: weight vector of shape (m+1, n) \n",
        "\n",
        "    Returns: y: Predicted label vector of shape (n,).\n",
        "    '''\n",
        "    # Check to make sure that feature matrix and weight vector have compatible \n",
        "    # shapes.\n",
        "\n",
        "    assert X.shape[-1]==w.shape[0], \"X and w don't have compatible dimensions\" \n",
        "    return X @ w"
      ],
      "metadata": {
        "id": "AqSSgVJJ96SE"
      },
      "execution_count": null,
      "outputs": []
    },
    {
      "cell_type": "code",
      "source": [
        "import unittest\n",
        "class TestPredict(unittest.TestCase):\n",
        "  def test_predict(self):\n",
        "    '''Test case predict function of linear regression'''\n",
        "    # set up\n",
        "    train_matrix = np.array([[1, 3, 2, 5],[1, 9, 4, 7]])\n",
        "    weight_vector = np.array([1, 1, 1, 1])\n",
        "\n",
        "    expected_label_vector = np.array([11, 21])\n",
        "    # call\n",
        "    predicted_label_vector = predict(train_matrix, weight_vector)\n",
        "    # asserts\n",
        "\n",
        "    # test the shape\n",
        "    self.assertEqual(predicted_label_vector.shape, (2, ))\n",
        "    # and contents\n",
        "    np.testing.assert_array_equal(\n",
        "    expected_label_vector, predicted_label_vector)\n",
        "unittest.main(argv=[ ''], defaultTest='TestPredict', verbosity=2, exit=False)"
      ],
      "metadata": {
        "colab": {
          "base_uri": "https://localhost:8080/"
        },
        "id": "tgqjMTf1_DgT",
        "outputId": "960a2cb6-525a-4f2c-8e1f-ce7de933859a"
      },
      "execution_count": null,
      "outputs": [
        {
          "output_type": "stream",
          "name": "stderr",
          "text": [
            "test_predict (__main__.TestPredict)\n",
            "Test case predict function of linear regression ... ok\n",
            "\n",
            "----------------------------------------------------------------------\n",
            "Ran 1 test in 0.005s\n",
            "\n",
            "OK\n"
          ]
        },
        {
          "output_type": "execute_result",
          "data": {
            "text/plain": [
              "<unittest.main.TestProgram at 0x7fe0bfef9c50>"
            ]
          },
          "metadata": {},
          "execution_count": 19
        }
      ]
    },
    {
      "cell_type": "markdown",
      "source": [
        "## Comparison of vectorized and non-vectorized version of model inference"
      ],
      "metadata": {
        "id": "NuZTYuKKAkGr"
      }
    },
    {
      "cell_type": "code",
      "source": [
        "def non_vectorized_predict(X, w):\n",
        "  '''Prediction of output label for\n",
        "  Args:\n",
        "  X: Feature matrix of shape (n,m+1)\n",
        "  w: weight vector of shape (m+1,, n)\n",
        "  Returns:\n",
        "  y: Predicted label vector of shape (n,)\n",
        "  '''\n",
        "  y = []\n",
        "  for i in range(0, X.shape[0]):\n",
        "    y_hat_i = 0\n",
        "    for j in range(0, X.shape[1]):\n",
        "      y_hat_i += X[i][j]*w[j]\n",
        "  y.append(y_hat_i)\n",
        "  return np.array(y)"
      ],
      "metadata": {
        "id": "1gZmKU7aAlTe"
      },
      "execution_count": null,
      "outputs": []
    },
    {
      "cell_type": "code",
      "source": [
        "#Just a code snippet, does not work\n",
        "import time\n",
        "start_time = time.time ()\n",
        "y_hat_vectorized = predict(X_train, w)\n",
        "end_time = time.time()\n",
        "\n",
        "print('Total time incurred in vectorized inference is: %0.6f s'%(end_time - start_time))\n",
        "\n",
        "start_time = time.time( )\n",
        "y_hat_non_vectorized = non_vectorized_predict(X_train, w)\n",
        "end_time = time.time()\n",
        "\n",
        "print('Total time incurred in non-vectorized inference is: %0.6f s'%(end_time - start_time))\n",
        "np.testing.assert_array_equal(y_hat_vectorized, y_hat_non_vectorized)"
      ],
      "metadata": {
        "id": "Ml3MJrMEA4lP"
      },
      "execution_count": null,
      "outputs": []
    },
    {
      "cell_type": "markdown",
      "source": [
        "# C3: Loss"
      ],
      "metadata": {
        "id": "NbJgef-XHhrt"
      }
    },
    {
      "cell_type": "code",
      "source": [
        "def loss(X, y, w):\n",
        "  '''Calculates loss for a model based on known labels.\n",
        "  Args:\n",
        "  X: Feature matrix for given inputs.\n",
        "  y: Output label vector as predicted by the given model.\n",
        "  w: Weight vector\n",
        "  Returns:\n",
        "  Loss\n",
        "  '''\n",
        "  e = predict(X, w) - y\n",
        "  return (1/2) * (np.transpose (e) @ e)"
      ],
      "metadata": {
        "id": "_Y5JYMvkBJX4"
      },
      "execution_count": null,
      "outputs": []
    },
    {
      "cell_type": "code",
      "source": [
        "import unittest\n",
        "class TestLossFunction(unittest.TestCase):\n",
        "  def test_loss_function(self):\n",
        "    '''Test case for loss function of linear regression'''\n",
        "    # set up\n",
        "    feature_matrix = np.array([[1, 3, 2, 5],[1, 9, 4, 7]])\n",
        "    weight_vector = np.array([1, 1,\n",
        "    1,\n",
        "    1])\n",
        "    label_vector = np.array( [ 6, 11])\n",
        "    expected_loss = np.array ([62.5])\n",
        "    # call\n",
        "    loss_value = loss (feature_matrix, label_vector, weight_vector)\n",
        "    # asserts\n",
        "    # test the shape\n",
        "    self.assertEqual(loss_value.shape, ())\n",
        "    # and contents\n",
        "    np.testing.assert_array_equal(expected_loss, loss_value)\n",
        "unittest.main(argv=[''], defaultTest='TestLossFunction', verbosity=2, exit=False)"
      ],
      "metadata": {
        "colab": {
          "base_uri": "https://localhost:8080/"
        },
        "id": "_reOko6OHkcH",
        "outputId": "7bcb45ff-b105-4097-e2c6-51070b56572b"
      },
      "execution_count": null,
      "outputs": [
        {
          "output_type": "stream",
          "name": "stderr",
          "text": [
            "test_loss_function (__main__.TestLossFunction)\n",
            "Test case for loss function of linear regression ... ok\n",
            "\n",
            "----------------------------------------------------------------------\n",
            "Ran 1 test in 0.006s\n",
            "\n",
            "OK\n"
          ]
        },
        {
          "output_type": "execute_result",
          "data": {
            "text/plain": [
              "<unittest.main.TestProgram at 0x7fe0bfe64f90>"
            ]
          },
          "metadata": {},
          "execution_count": 25
        }
      ]
    },
    {
      "cell_type": "markdown",
      "source": [
        "# C4: Optimization"
      ],
      "metadata": {
        "id": "FsONbmwiIsaN"
      }
    },
    {
      "cell_type": "markdown",
      "source": [
        "Let's generate taining data with 100 examples with linear regression model of known parameters.\n",
        "We will use this data to test optimization procedure, where we compare the estimated weight vectors with the actual weight vector."
      ],
      "metadata": {
        "id": "rNkXJfL1I2yM"
      }
    },
    {
      "cell_type": "code",
      "source": [
        "'''X, y = generate_data(100)\n",
        "X_train, X_test, y_train, y_test = preprocess (X, y)\n",
        "'''"
      ],
      "metadata": {
        "colab": {
          "base_uri": "https://localhost:8080/",
          "height": 36
        },
        "id": "IpuKIk4NJdeZ",
        "outputId": "b3711de6-03d0-43e9-c3a6-6f3c1946ccf7"
      },
      "execution_count": null,
      "outputs": [
        {
          "output_type": "execute_result",
          "data": {
            "text/plain": [
              "'X, y = generate_data(100)\\nX_train, X_test, y_train, y_test = preprocess (X, y)\\n'"
            ],
            "application/vnd.google.colaboratory.intrinsic+json": {
              "type": "string"
            }
          },
          "metadata": {},
          "execution_count": 27
        }
      ]
    },
    {
      "cell_type": "code",
      "source": [
        "def normal_equation(X, y):\n",
        "  '''Estimates parameters of the linear regression model with normal equation.\n",
        "  Args:\n",
        "  X: Feature matrix for given inputs.\n",
        "  y: Actual label vector.\n",
        "  Returns:\n",
        "  Weight vector\n",
        "  '''\n",
        "  return np.linalg.pinv(X) @ y"
      ],
      "metadata": {
        "id": "BWQELT_CHym0"
      },
      "execution_count": null,
      "outputs": []
    },
    {
      "cell_type": "markdown",
      "source": [
        "# Gradient descent (GD)\n",
        "GD is implemented as follows:\n",
        "\n",
        "  Randomly initialize w to 0.\n",
        "\n",
        "  Iterate until convergence:\n",
        "\n",
        "  Calculate partial derivative of loss w.r.t. weight vector.\n",
        "\n",
        "  Calculate new values of weights.\n",
        "\n",
        "  Update weights to new values simultaneously.\n",
        "  \n",
        "\n",
        "We use number of epochs as a convergence criteria in this implementation."
      ],
      "metadata": {
        "id": "z6SK5otp82YR"
      }
    },
    {
      "cell_type": "code",
      "source": [
        "def calculate_gradient(X, y, w):\n",
        "  '''Calculates gradients of loss function w.r.t weight vector on training set.\n",
        "  Arguments:\n",
        "  X: Feature matrix for training data.\n",
        "  y: Label vector for training data.\n",
        "  w: Weight vector\n",
        "  Returns:\n",
        "  A vector of gradients.\n",
        "  '''\n",
        "  return np.transpose (X) @ (predict(X, w) - y)"
      ],
      "metadata": {
        "id": "4DXtQG9-9PKR"
      },
      "execution_count": null,
      "outputs": []
    },
    {
      "cell_type": "markdown",
      "source": [
        "Now will test gradient decent algo."
      ],
      "metadata": {
        "id": "TglQlX2YJ99L"
      }
    },
    {
      "cell_type": "code",
      "source": [
        "class TestCalculateGradient(unittest.TestCase):\n",
        "  def test_calculate_gradient(self):\n",
        "    '''\n",
        "    Test case for gradient calculation.\n",
        "    '''\n",
        "    # set up\n",
        "    feature_matrix = np.array([[1, 3, 2, 5],[1, 9, 4, 7]])\n",
        "    weight_vector = np.array([1, 1, 1, 1])\n",
        "\n",
        "    label_vector = np.array([6, 11])\n",
        "\n",
        "    expected_grad = np.array([15, 105, 50, 95])\n",
        "\n",
        "    # call\n",
        "    grad = calculate_gradient(feature_matrix, label_vector, weight_vector)\n",
        "    # asserts\n",
        "\n",
        "    # test the shape\n",
        "    self.assertEqual(grad.shape, (4, ))\n",
        "\n",
        "    # and contents\n",
        "    np.testing.assert_array_almost_equal(expected_grad, grad, decimal=0)\n",
        "    \n",
        "unittest.main(argv=[''], defaultTest='TestCalculateGradient', verbosity=2, exit=False)"
      ],
      "metadata": {
        "id": "1gaW6VdnI9sT"
      },
      "execution_count": null,
      "outputs": []
    },
    {
      "cell_type": "code",
      "source": [
        "def update_weights(w, grad, lr):\n",
        "  '''Updates the weights based on the gradient of loss function.\n",
        "  Weight updates are carried out with the following formula:\n",
        "  w_new := w_old - lr * grad\n",
        "  Args:\n",
        "  1. w: weight vector\n",
        "  2. grad: gradient of loss w.r.t. w\n",
        "  3. lr: learning rate\n",
        "  Returns:\n",
        "  Updated weight vector\n",
        "  '''\n",
        "  return (w - lr*grad)"
      ],
      "metadata": {
        "id": "nZOLG1fVKYrZ"
      },
      "execution_count": null,
      "outputs": []
    },
    {
      "cell_type": "code",
      "source": [
        ""
      ],
      "metadata": {
        "id": "6pvWBrZ1Kean"
      },
      "execution_count": null,
      "outputs": []
    }
  ]
}