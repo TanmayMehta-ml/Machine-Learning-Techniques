{
  "nbformat": 4,
  "nbformat_minor": 0,
  "metadata": {
    "colab": {
      "name": "Gradient Boosting",
      "provenance": [],
      "authorship_tag": "ABX9TyPHBjKMysJO5tsT9nsiFiSn"
    },
    "kernelspec": {
      "name": "python3",
      "display_name": "Python 3"
    },
    "language_info": {
      "name": "python"
    }
  },
  "cells": [
    {
      "cell_type": "markdown",
      "source": [
        "## Gradient Boosting"
      ],
      "metadata": {
        "id": "_k66_bbhqlIV"
      }
    },
    {
      "cell_type": "code",
      "execution_count": 1,
      "metadata": {
        "id": "JvwKalVPqiAZ"
      },
      "outputs": [],
      "source": [
        "import numpy as np\n",
        "import pandas as pd\n",
        "import matplotlib.pyplot as plt\n",
        "import seaborn as sns"
      ]
    },
    {
      "cell_type": "code",
      "source": [
        "def GradBoost(model, X_train, y_train, X_test, boosting_rounds, learning_rate: float = 0.1):\n",
        "    #make a first guess of our training target variable using the mean of y_train\n",
        "    y_hat_train = np.repeat(np.mean(y_train), len(y_train))\n",
        "\n",
        "    #Initiate the test prediction with the mean of the training target variable.\n",
        "    y_hat_test = np.repeat(np.mean(y_train), len(y_test))\n",
        "\n",
        "    #Calculate the residuals\n",
        "    residuals = y_train - y_hat_train\n",
        "\n",
        "    #Iterate through the boosting rounds\n",
        "    for i in range(boosting_rounds):\n",
        "        #Fit the model to the residuals\n",
        "        model = model.fit(X_train, residuals)\n",
        "\n",
        "        #Increment the predicted training y with the pseudoresidulas * learning rate\n",
        "        y_hat_train = y_hat_train + learning_rate * model.predict(X_train)\n",
        "\n",
        "        #Increment the predicted test y as well\n",
        "        y_hat_test = y_hat_test + learning_rate * model.predict(X_test)\n",
        "\n",
        "        #Calculate the residuals for the next round\n",
        "        residuals = y_train - y_hat_train\n",
        "\n",
        "    return y_hat_train, y_hat_test"
      ],
      "metadata": {
        "id": "cblaVHDTq4U2"
      },
      "execution_count": 2,
      "outputs": []
    },
    {
      "cell_type": "markdown",
      "source": [
        "## Demonstration"
      ],
      "metadata": {
        "id": "zLo5ceYmq6Wb"
      }
    },
    {
      "cell_type": "code",
      "source": [
        "from sklearn.datasets import make_regression\n",
        "\n",
        "X, y = make_regression(n_samples = 1000,\n",
        "                        n_features = 20,\n",
        "                        n_informative = 15,\n",
        "                        n_targets = 1,\n",
        "                        bias = 0.0,\n",
        "                        noise = 20,\n",
        "                        shuffle = True,\n",
        "                        random_state = 13)\n",
        "\n",
        "X_train = X[0:800]\n",
        "y_train = y[0:800]\n",
        "\n",
        "X_test = X[800:]\n",
        "y_test = y[800:]"
      ],
      "metadata": {
        "id": "yot17pH8q5ah"
      },
      "execution_count": 3,
      "outputs": []
    },
    {
      "cell_type": "code",
      "source": [
        "from sklearn.tree import DecisionTreeRegressor\n",
        "\n",
        "model = DecisionTreeRegressor(criterion='squared_error', max_depth=3)"
      ],
      "metadata": {
        "id": "v2tPC_nOq8RH"
      },
      "execution_count": 4,
      "outputs": []
    },
    {
      "cell_type": "code",
      "source": [
        "mse_train = []\n",
        "n_rounds = np.arange(5, 101, 5)\n",
        "for n_round in n_rounds:\n",
        "    y_hat_train = GradBoost(model,\n",
        "                            X_train,\n",
        "                            y_train,\n",
        "                            X_test,\n",
        "                            boosting_rounds=n_round,\n",
        "                            learning_rate=0.1)[0]\n",
        "\n",
        "    mse_train.append(np.mean((y_train - y_hat_train) **2))\n",
        "    print(\"round #: {0}, mse: {1}\".format(n_round, mse_train[-1]))"
      ],
      "metadata": {
        "colab": {
          "base_uri": "https://localhost:8080/"
        },
        "id": "gMb66nXxq9JJ",
        "outputId": "13b6c1e4-b131-456b-ce90-9e82c1040855"
      },
      "execution_count": 5,
      "outputs": [
        {
          "output_type": "stream",
          "name": "stdout",
          "text": [
            "round #: 5, mse: 34533.86849419914\n",
            "round #: 10, mse: 25528.592361427367\n",
            "round #: 15, mse: 19136.599769132084\n",
            "round #: 20, mse: 14648.04450759926\n",
            "round #: 25, mse: 11459.06364248089\n",
            "round #: 30, mse: 9128.094374117592\n",
            "round #: 35, mse: 7310.768003762689\n",
            "round #: 40, mse: 5978.90406036746\n",
            "round #: 45, mse: 4945.0105504213625\n",
            "round #: 50, mse: 4114.202235579171\n",
            "round #: 55, mse: 3504.608724077598\n",
            "round #: 60, mse: 2986.892222453875\n",
            "round #: 65, mse: 2592.205507526533\n",
            "round #: 70, mse: 2231.005500265884\n",
            "round #: 75, mse: 1942.7838152537688\n",
            "round #: 80, mse: 1721.5043747746472\n",
            "round #: 85, mse: 1538.2240733809203\n",
            "round #: 90, mse: 1386.345743725723\n",
            "round #: 95, mse: 1240.7055168322297\n",
            "round #: 100, mse: 1117.8412308525265\n"
          ]
        }
      ]
    },
    {
      "cell_type": "code",
      "source": [
        "plt.figure(figsize=(10, 8))\n",
        "plt.plot(n_rounds, mse_train)\n",
        "plt.title(\"Training MSE vs Boosting Rounds\", fontsize=20)\n",
        "plt.xlabel('NUmber of Boosting rounds', fontsize=15)\n",
        "plt.ylabel('Training Mean squared error', fontsize=15)"
      ],
      "metadata": {
        "colab": {
          "base_uri": "https://localhost:8080/",
          "height": 541
        },
        "id": "BCevYUYyq-Gy",
        "outputId": "b558d6fa-7c40-4777-eba3-edd62ee78ae7"
      },
      "execution_count": 6,
      "outputs": [
        {
          "output_type": "execute_result",
          "data": {
            "text/plain": [
              "Text(0, 0.5, 'Training Mean squared error')"
            ]
          },
          "metadata": {},
          "execution_count": 6
        },
        {
          "output_type": "display_data",
          "data": {
            "text/plain": [
              "<Figure size 720x576 with 1 Axes>"
            ],
            "image/png": "[encoded data removed]"
          },
          "metadata": {
            "needs_background": "light"
          }
        }
      ]
    }
  ]
}