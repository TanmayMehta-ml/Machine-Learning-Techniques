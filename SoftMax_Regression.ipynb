{
  "nbformat": 4,
  "nbformat_minor": 0,
  "metadata": {
    "colab": {
      "name": "SoftMax Regression",
      "provenance": [],
      "authorship_tag": "ABX9TyPr5pTb093oz1c2KR6DCn+3"
    },
    "kernelspec": {
      "name": "python3",
      "display_name": "Python 3"
    },
    "language_info": {
      "name": "python"
    }
  },
  "cells": [
    {
      "cell_type": "markdown",
      "source": [
        "## SoftMax Regression\n"
      ],
      "metadata": {
        "id": "Sn8ko5NdjwuN"
      }
    },
    {
      "cell_type": "code",
      "execution_count": 1,
      "metadata": {
        "id": "2S-RcDg6jaT2"
      },
      "outputs": [],
      "source": [
        "#Imports\n",
        "\n",
        "import numpy as np\n",
        "from keras.datasets import mnist\n",
        "import matplotlib.pyplot as plt"
      ]
    },
    {
      "cell_type": "markdown",
      "source": [
        "# Training data "
      ],
      "metadata": {
        "id": "M4ct1JNMkTn0"
      }
    },
    {
      "cell_type": "code",
      "source": [
        "(train_X, train_y), (test_X, test_y) = mnist.load_data()\n",
        "\n",
        "# Plotting some examples\n",
        "fig = plt.figure(figsize=(10,7))\n",
        "for i in range(15):\n",
        "    ax = fig.add_subplot(3, 5, i+1)\n",
        "    ax.imshow(train_X[i], cmap=plt.get_cmap('gray'))\n",
        "    ax.set_title('Label (y): {y}'.format(y=train_y[i]))\n",
        "    plt.axis('off')"
      ],
      "metadata": {
        "colab": {
          "base_uri": "https://localhost:8080/",
          "height": 466
        },
        "id": "FLW3MFz1kNaE",
        "outputId": "c1490892-960d-4f8a-d276-9d065df20fca"
      },
      "execution_count": 2,
      "outputs": [
        {
          "output_type": "stream",
          "name": "stdout",
          "text": [
            "Downloading data from https://storage.googleapis.com/tensorflow/tf-keras-datasets/mnist.npz\n",
            "11493376/11490434 [==============================] - 0s 0us/step\n",
            "11501568/11490434 [==============================] - 0s 0us/step\n"
          ]
        },
        {
          "output_type": "display_data",
          "data": {
            "text/plain": [
              "<Figure size 720x504 with 15 Axes>"
            ],
            "image/png": "[encoded data removed]"
          },
          "metadata": {
            "needs_background": "light"
          }
        }
      ]
    },
    {
      "cell_type": "code",
      "source": [
        "X_train = train_X.reshape(train_X.shape[0], 28*28)\n",
        "X_test = test_X.reshape(test_X.shape[0], 28*28)"
      ],
      "metadata": {
        "id": "jStGfIDwkXoM"
      },
      "execution_count": 3,
      "outputs": []
    },
    {
      "cell_type": "code",
      "source": [
        "#Normalising\n",
        "X_train = X_train/255\n",
        "X_test = X_test/255"
      ],
      "metadata": {
        "id": "NQkt4-idkYou"
      },
      "execution_count": 4,
      "outputs": []
    },
    {
      "cell_type": "code",
      "source": [
        "def convert_to_one_hot_encoding(y, k):\n",
        "    #Intitalising with zeros\n",
        "    y_one_hot = np.zeros((len(y), k))\n",
        "\n",
        "    #Putting 1 for column where the label is\n",
        "    y_one_hot[np.arange(len(y)), y] = 1\n",
        "    return y_one_hot"
      ],
      "metadata": {
        "id": "iaqxYSlDkaBQ"
      },
      "execution_count": 5,
      "outputs": []
    },
    {
      "cell_type": "markdown",
      "source": [
        "## Model: Softmax regression Implementation"
      ],
      "metadata": {
        "id": "pFMcI0MYkcTs"
      }
    },
    {
      "cell_type": "code",
      "source": [
        "def linear_combination(X, w, b):\n",
        "    return X @ w + b"
      ],
      "metadata": {
        "id": "Afx3CyMckbLu"
      },
      "execution_count": 6,
      "outputs": []
    },
    {
      "cell_type": "markdown",
      "source": [
        "![image.png](data:image/png;base64,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)"
      ],
      "metadata": {
        "id": "sB57-jYCkgKd"
      }
    },
    {
      "cell_type": "code",
      "source": [
        "def softmax(z):\n",
        "    # z--> linear part\n",
        "    # Subtracting the max of z fo numerical stability.\n",
        "    exp = np.exp(z - np.max(z))\n",
        "\n",
        "    #Calculating softmax for all example\n",
        "    for i in range(len(z)):\n",
        "        exp[i] /= np.sum(exp[i])\n",
        "\n",
        "    return exp"
      ],
      "metadata": {
        "id": "UrkuzK0Ike47"
      },
      "execution_count": 7,
      "outputs": []
    },
    {
      "cell_type": "markdown",
      "source": [
        "## Loss function and Optimisation"
      ],
      "metadata": {
        "id": "fNRFIvvhltCj"
      }
    },
    {
      "cell_type": "code",
      "source": [
        "def fit(X, y, lr, n_classes, epochs):\n",
        "    '''\n",
        "    Args:\n",
        "        X: Feature matrix\n",
        "        y: Labels\n",
        "        lr: Learning rate\n",
        "        n_classes: Number of classes\n",
        "        epochs: Number of epochs for training\n",
        "    \n",
        "    Returns:\n",
        "        w: learned weight vectors\n",
        "        b: learned biases\n",
        "        Losses: Losses reported in each epoch\n",
        "\n",
        "    '''\n",
        "    n_samples, n_features = X.shape\n",
        "\n",
        "    w = np.random.random((n_features, n_classes))\n",
        "    b = np.random.random(n_classes)\n",
        "\n",
        "    Losses = []\n",
        "\n",
        "    for epoch in range(epochs):\n",
        "        \n",
        "        z = linear_combination(X, w, b)\n",
        "        y_hat = softmax(z)\n",
        "        y_hot = convert_to_one_hot_encoding(y, n_classes)\n",
        "\n",
        "        w_grad = (1/n_samples) * np.dot(X.T, (y_hat - y_hot))\n",
        "        b_grad = (1/n_samples) * np.sum(y_hat - y_hot)\n",
        "\n",
        "        w -= lr * w_grad\n",
        "        b -= lr * b_grad\n",
        "\n",
        "        loss = -np.mean(np.log(y_hat[np.arange(len(y)), y]))\n",
        "        Losses.append(loss)\n",
        "\n",
        "        if (epoch % 10 == 0):\n",
        "            print('Epoch {epoch} ==> Loss = {loss}'.format(epoch=epoch, loss=loss))\n",
        "\n",
        "    return w, b, Losses"
      ],
      "metadata": {
        "id": "BkeDgFqBkfys"
      },
      "execution_count": 8,
      "outputs": []
    },
    {
      "cell_type": "code",
      "source": [
        "def predict(X, w, b):\n",
        "    '''\n",
        "    Args:\n",
        "        X: Feature matrix\n",
        "        w: Weight vector\n",
        "        b: Bias\n",
        "\n",
        "    Return:\n",
        "        Predictions\n",
        "    '''\n",
        "\n",
        "    z = linear_combination(X, w, b)\n",
        "    y_hat = softmax(z)\n",
        "\n",
        "    return np.argmax(y_hat, axis=1)\n",
        "\n",
        "def accuracy(y, y_hat):\n",
        "    return np.sum(y == y_hat)/len(y)"
      ],
      "metadata": {
        "id": "8vOWSQ1GlvF1"
      },
      "execution_count": 9,
      "outputs": []
    },
    {
      "cell_type": "markdown",
      "source": [
        "## Digit recognition on MNIST data"
      ],
      "metadata": {
        "id": "xAQ0WbuylxHG"
      }
    },
    {
      "cell_type": "code",
      "source": [
        "weight, bias, losses = fit(X_train, train_y, lr=0.9, n_classes=10, epochs=100)"
      ],
      "metadata": {
        "colab": {
          "base_uri": "https://localhost:8080/"
        },
        "id": "FRasTgq9lwHr",
        "outputId": "28d2fe28-eecd-4a92-8c8e-a54aa0c21d27"
      },
      "execution_count": 10,
      "outputs": [
        {
          "output_type": "stream",
          "name": "stdout",
          "text": [
            "Epoch 0 ==> Loss = 4.502877736355685\n",
            "Epoch 10 ==> Loss = 1.0529757387863152\n",
            "Epoch 20 ==> Loss = 0.6848567342826944\n",
            "Epoch 30 ==> Loss = 0.566341199170346\n",
            "Epoch 40 ==> Loss = 0.5158251184165962\n",
            "Epoch 50 ==> Loss = 0.4833103994793121\n",
            "Epoch 60 ==> Loss = 0.460045341804001\n",
            "Epoch 70 ==> Loss = 0.4423276111804073\n",
            "Epoch 80 ==> Loss = 0.4282413104432514\n",
            "Epoch 90 ==> Loss = 0.41668511664636665\n"
          ]
        }
      ]
    },
    {
      "cell_type": "markdown",
      "source": [
        "## Learning Curve"
      ],
      "metadata": {
        "id": "4McYWo32lzo7"
      }
    },
    {
      "cell_type": "code",
      "source": [
        "plt.figure()\n",
        "plt.title(\"Learning Curve\")\n",
        "plt.legend(['Training Loss'])\n",
        "plt.xlabel('No. of Epochs')\n",
        "plt.ylabel('Loss function')\n",
        "plt.plot(np.arange(len(losses)), losses, 'b-')\n",
        "plt.show()"
      ],
      "metadata": {
        "colab": {
          "base_uri": "https://localhost:8080/",
          "height": 295
        },
        "id": "92z5t5rTlyh_",
        "outputId": "307c3cf7-ddd3-4cf4-b7a2-3aa6988270e2"
      },
      "execution_count": 11,
      "outputs": [
        {
          "output_type": "display_data",
          "data": {
            "text/plain": [
              "<Figure size 432x288 with 1 Axes>"
            ],
            "image/png": "[encoded data removed]"
          },
          "metadata": {
            "needs_background": "light"
          }
        }
      ]
    },
    {
      "cell_type": "code",
      "source": [
        "train_preds = predict(X_train, weight, bias)\n",
        "print('Accuracy of training set: ', accuracy(train_y, train_preds))"
      ],
      "metadata": {
        "colab": {
          "base_uri": "https://localhost:8080/"
        },
        "id": "Tkm_p0TCl1E5",
        "outputId": "a446c9e5-6366-4ac5-a32c-892d4cc4b56c"
      },
      "execution_count": 12,
      "outputs": [
        {
          "output_type": "stream",
          "name": "stdout",
          "text": [
            "Accuracy of training set:  0.8809666666666667\n"
          ]
        }
      ]
    },
    {
      "cell_type": "code",
      "source": [
        "test_preds = predict(X_test, weight, bias)\n",
        "print('Accuracy of test set: ', accuracy(test_y, test_preds))"
      ],
      "metadata": {
        "colab": {
          "base_uri": "https://localhost:8080/"
        },
        "id": "OVld2D_vl2UW",
        "outputId": "092c176f-f5cd-4fea-fb44-c35ae16b666f"
      },
      "execution_count": 13,
      "outputs": [
        {
          "output_type": "stream",
          "name": "stdout",
          "text": [
            "Accuracy of test set:  0.8873\n"
          ]
        }
      ]
    },
    {
      "cell_type": "code",
      "source": [
        "from sklearn.metrics import ConfusionMatrixDisplay\n",
        "\n",
        "cm_disp = ConfusionMatrixDisplay.from_predictions(test_y, test_preds)"
      ],
      "metadata": {
        "colab": {
          "base_uri": "https://localhost:8080/",
          "height": 279
        },
        "id": "wGiZQ3iBl3T-",
        "outputId": "8961918d-de6c-44d6-9164-0407c49c42ec"
      },
      "execution_count": 14,
      "outputs": [
        {
          "output_type": "display_data",
          "data": {
            "text/plain": [
              "<Figure size 432x288 with 2 Axes>"
            ],
            "image/png": "[encoded data removed]"
          },
          "metadata": {
            "needs_background": "light"
          }
        }
      ]
    },
    {
      "cell_type": "code",
      "source": [
        "from sklearn.metrics import classification_report\n",
        "print(classification_report(test_y, test_preds))"
      ],
      "metadata": {
        "colab": {
          "base_uri": "https://localhost:8080/"
        },
        "id": "SgbNmaZhl4OQ",
        "outputId": "a1a577c2-7043-4f47-fbf8-23010fa8b6b4"
      },
      "execution_count": 15,
      "outputs": [
        {
          "output_type": "stream",
          "name": "stdout",
          "text": [
            "              precision    recall  f1-score   support\n",
            "\n",
            "           0       0.93      0.96      0.94       980\n",
            "           1       0.96      0.96      0.96      1135\n",
            "           2       0.88      0.85      0.87      1032\n",
            "           3       0.86      0.89      0.87      1010\n",
            "           4       0.89      0.90      0.90       982\n",
            "           5       0.83      0.79      0.81       892\n",
            "           6       0.90      0.92      0.91       958\n",
            "           7       0.91      0.89      0.90      1028\n",
            "           8       0.83      0.83      0.83       974\n",
            "           9       0.86      0.86      0.86      1009\n",
            "\n",
            "    accuracy                           0.89     10000\n",
            "   macro avg       0.89      0.89      0.89     10000\n",
            "weighted avg       0.89      0.89      0.89     10000\n",
            "\n"
          ]
        }
      ]
    }
  ]
}