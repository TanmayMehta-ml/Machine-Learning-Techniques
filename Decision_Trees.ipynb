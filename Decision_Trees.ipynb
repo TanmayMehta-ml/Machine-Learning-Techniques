{
  "nbformat": 4,
  "nbformat_minor": 0,
  "metadata": {
    "colab": {
      "name": "Decision Trees",
      "provenance": [],
      "authorship_tag": "ABX9TyOq6bH0h1sFi4JJDVZhkgeU"
    },
    "kernelspec": {
      "name": "python3",
      "display_name": "Python 3"
    },
    "language_info": {
      "name": "python"
    }
  },
  "cells": [
    {
      "cell_type": "markdown",
      "source": [
        "## Decision Trees"
      ],
      "metadata": {
        "id": "Qs-LNSPFp-g2"
      }
    },
    {
      "cell_type": "code",
      "execution_count": 1,
      "metadata": {
        "id": "rTXBolMCp9o6"
      },
      "outputs": [],
      "source": [
        "#importing libraries\n",
        "import numpy as np\n",
        "import pandas as pd"
      ]
    },
    {
      "cell_type": "code",
      "source": [
        "eps = np.finfo(float).eps\n",
        "eps"
      ],
      "metadata": {
        "colab": {
          "base_uri": "https://localhost:8080/"
        },
        "id": "nlgQQ-lRqBKI",
        "outputId": "43f643d5-0679-4a73-b1a2-a493842cc599"
      },
      "execution_count": 2,
      "outputs": [
        {
          "output_type": "execute_result",
          "data": {
            "text/plain": [
              "2.220446049250313e-16"
            ]
          },
          "metadata": {},
          "execution_count": 2
        }
      ]
    },
    {
      "cell_type": "markdown",
      "source": [
        "## Data"
      ],
      "metadata": {
        "id": "lpGmN_vYqDGE"
      }
    },
    {
      "cell_type": "code",
      "source": [
        "data = {'Outlook': ['Sunny', 'Sunny', 'Overcast', 'Rain', 'Rain', 'Rain', 'Overcast', 'Sunny', 'Sunny', 'Rain', 'Sunny', 'Overcast', 'Overcast', 'Rain' ],\n",
        "        'Temperature': ['Hot', 'Hot', 'Hot', 'Mild', 'Cool', 'Cool', 'Cool', 'Mild', 'Cool', 'Mild', 'Mild', 'Mild', 'Hot', 'Mild'],\n",
        "        'Humidity': ['High', 'High', 'High', 'High', 'Normal', 'Normal', 'Normal', 'High', 'Normal', 'Normal', 'Normal', 'High', 'Normal', 'High'],\n",
        "        'Wind': ['Weak', 'Strong', 'Weak', 'Weak', 'Weak', 'Strong', 'Strong', 'Weak', 'Weak', 'Weak',  'Strong', 'Strong', 'Weak', 'Strong'],\n",
        "        'Play': ['No', 'No', 'Yes', 'Yes', 'Yes', 'No', 'Yes', 'No',  'Yes', 'Yes',  'Yes', 'Yes', 'Yes', 'No' ]}\n",
        "df = pd.DataFrame(data)"
      ],
      "metadata": {
        "id": "kXbmrueNqB3e"
      },
      "execution_count": 3,
      "outputs": []
    },
    {
      "cell_type": "code",
      "source": [
        "df.shape"
      ],
      "metadata": {
        "colab": {
          "base_uri": "https://localhost:8080/"
        },
        "id": "G_blAsIWqE_c",
        "outputId": "1cb8c98e-4396-4f19-e3e8-b5ed34ad6a68"
      },
      "execution_count": 4,
      "outputs": [
        {
          "output_type": "execute_result",
          "data": {
            "text/plain": [
              "(14, 5)"
            ]
          },
          "metadata": {},
          "execution_count": 4
        }
      ]
    },
    {
      "cell_type": "code",
      "source": [
        "df.values"
      ],
      "metadata": {
        "colab": {
          "base_uri": "https://localhost:8080/"
        },
        "id": "Sz4jHH0fqFtA",
        "outputId": "43b66fca-000e-40fa-d42c-0877549beba6"
      },
      "execution_count": 5,
      "outputs": [
        {
          "output_type": "execute_result",
          "data": {
            "text/plain": [
              "array([['Sunny', 'Hot', 'High', 'Weak', 'No'],\n",
              "       ['Sunny', 'Hot', 'High', 'Strong', 'No'],\n",
              "       ['Overcast', 'Hot', 'High', 'Weak', 'Yes'],\n",
              "       ['Rain', 'Mild', 'High', 'Weak', 'Yes'],\n",
              "       ['Rain', 'Cool', 'Normal', 'Weak', 'Yes'],\n",
              "       ['Rain', 'Cool', 'Normal', 'Strong', 'No'],\n",
              "       ['Overcast', 'Cool', 'Normal', 'Strong', 'Yes'],\n",
              "       ['Sunny', 'Mild', 'High', 'Weak', 'No'],\n",
              "       ['Sunny', 'Cool', 'Normal', 'Weak', 'Yes'],\n",
              "       ['Rain', 'Mild', 'Normal', 'Weak', 'Yes'],\n",
              "       ['Sunny', 'Mild', 'Normal', 'Strong', 'Yes'],\n",
              "       ['Overcast', 'Mild', 'High', 'Strong', 'Yes'],\n",
              "       ['Overcast', 'Hot', 'Normal', 'Weak', 'Yes'],\n",
              "       ['Rain', 'Mild', 'High', 'Strong', 'No']], dtype=object)"
            ]
          },
          "metadata": {},
          "execution_count": 5
        }
      ]
    },
    {
      "cell_type": "code",
      "source": [
        "df.keys()"
      ],
      "metadata": {
        "colab": {
          "base_uri": "https://localhost:8080/"
        },
        "id": "7jj4nd1bqGXZ",
        "outputId": "ff639b76-87ae-47f7-e117-8fb713ac14ea"
      },
      "execution_count": 6,
      "outputs": [
        {
          "output_type": "execute_result",
          "data": {
            "text/plain": [
              "Index(['Outlook', 'Temperature', 'Humidity', 'Wind', 'Play'], dtype='object')"
            ]
          },
          "metadata": {},
          "execution_count": 6
        }
      ]
    },
    {
      "cell_type": "code",
      "source": [
        "target = df.keys()[-1]\n",
        "target"
      ],
      "metadata": {
        "colab": {
          "base_uri": "https://localhost:8080/",
          "height": 36
        },
        "id": "t96uR2-9qHHq",
        "outputId": "b11ddf55-3235-4c28-ec42-41e10776dc92"
      },
      "execution_count": 7,
      "outputs": [
        {
          "output_type": "execute_result",
          "data": {
            "text/plain": [
              "'Play'"
            ],
            "application/vnd.google.colaboratory.intrinsic+json": {
              "type": "string"
            }
          },
          "metadata": {},
          "execution_count": 7
        }
      ]
    },
    {
      "cell_type": "code",
      "source": [
        "df[target].unique()"
      ],
      "metadata": {
        "colab": {
          "base_uri": "https://localhost:8080/"
        },
        "id": "0_hZoQD-qIHW",
        "outputId": "26ec39b6-e00c-4bc7-8c69-d0ec718ebf6f"
      },
      "execution_count": 8,
      "outputs": [
        {
          "output_type": "execute_result",
          "data": {
            "text/plain": [
              "array(['No', 'Yes'], dtype=object)"
            ]
          },
          "metadata": {},
          "execution_count": 8
        }
      ]
    },
    {
      "cell_type": "code",
      "source": [
        "df[target].value_counts()"
      ],
      "metadata": {
        "colab": {
          "base_uri": "https://localhost:8080/"
        },
        "id": "AjYIfgmHqIxS",
        "outputId": "47fba373-de8d-49e2-e931-45b529c9839c"
      },
      "execution_count": 9,
      "outputs": [
        {
          "output_type": "execute_result",
          "data": {
            "text/plain": [
              "Yes    9\n",
              "No     5\n",
              "Name: Play, dtype: int64"
            ]
          },
          "metadata": {},
          "execution_count": 9
        }
      ]
    },
    {
      "cell_type": "markdown",
      "source": [
        "## Implementation"
      ],
      "metadata": {
        "id": "ZHNwa4-lqKwc"
      }
    },
    {
      "cell_type": "markdown",
      "source": [
        "### Calculating entropy of the whole dataset"
      ],
      "metadata": {
        "id": "61c-4jL9qLoL"
      }
    },
    {
      "cell_type": "code",
      "source": [
        "def find_entropy_whole(df):\n",
        "    #last column in the dataframe is the target variable\n",
        "    target = df.keys()[-1]\n",
        "\n",
        "    #initialisation\n",
        "    overall_entropy = 0\n",
        "\n",
        "    #possible values of target\n",
        "    values_in_target = df[target].unique()\n",
        "\n",
        "    for value in values_in_target:\n",
        "        p = df[target].value_counts()[value] / len(df[target])\n",
        "        overall_entropy += -p*np.log2(p)\n",
        "    \n",
        "    return overall_entropy\n",
        "\n",
        "find_entropy_whole(df)"
      ],
      "metadata": {
        "colab": {
          "base_uri": "https://localhost:8080/"
        },
        "id": "dKzUaOVOqJjJ",
        "outputId": "fa71f163-f027-43e2-f881-aee007532bd0"
      },
      "execution_count": 10,
      "outputs": [
        {
          "output_type": "execute_result",
          "data": {
            "text/plain": [
              "0.9402859586706309"
            ]
          },
          "metadata": {},
          "execution_count": 10
        }
      ]
    },
    {
      "cell_type": "markdown",
      "source": [
        "### Calculating entropy of an attribute"
      ],
      "metadata": {
        "id": "QZU1QICXqO91"
      }
    },
    {
      "cell_type": "code",
      "source": [
        "def find_entropy_of_attribute(df, attribute):\n",
        "    target = df.keys()[-1]\n",
        "    values_in_target = df[target].unique()\n",
        "    values_in_attribute = df[attribute].unique()\n",
        "\n",
        "    entropy_attribute = 0\n",
        "\n",
        "    for attribute_value in values_in_attribute:\n",
        "        overall_entropy = 0\n",
        "\n",
        "        for target_value in values_in_target:\n",
        "            num = len(df[attribute][df[attribute] == attribute_value][df[target] == target_value])\n",
        "            den = len(df[attribute][df[attribute] == attribute_value])\n",
        "\n",
        "            p = num/(den + eps)\n",
        "            overall_entropy += -p * np.log2(p + eps) \n",
        "        p2 = den / len(df)\n",
        "        entropy_attribute += -p2 * overall_entropy\n",
        "\n",
        "    return abs(entropy_attribute) "
      ],
      "metadata": {
        "id": "hWu6jkMLqN7X"
      },
      "execution_count": 11,
      "outputs": []
    },
    {
      "cell_type": "code",
      "source": [
        "for i in df.keys()[:-1]:\n",
        "    print(f'Entropy of attribute \\'{i}\\' is :', find_entropy_of_attribute(df, i))"
      ],
      "metadata": {
        "colab": {
          "base_uri": "https://localhost:8080/"
        },
        "id": "PDdIvnhYqQnz",
        "outputId": "43a5a5c8-39e3-4354-c258-b0f4f9cda25f"
      },
      "execution_count": 12,
      "outputs": [
        {
          "output_type": "stream",
          "name": "stdout",
          "text": [
            "Entropy of attribute 'Outlook' is : 0.6935361388961914\n",
            "Entropy of attribute 'Temperature' is : 0.9110633930116756\n",
            "Entropy of attribute 'Humidity' is : 0.7884504573082889\n",
            "Entropy of attribute 'Wind' is : 0.892158928262361\n"
          ]
        }
      ]
    },
    {
      "cell_type": "code",
      "source": [
        "#Finding the best attribute\n",
        "def find_best_attribute_to_divide(df):\n",
        "    #Information gain\n",
        "    IG = []\n",
        "\n",
        "    all_attribute_names = df.keys()[:-1]\n",
        "\n",
        "    for attr in all_attribute_names:\n",
        "        IG.append(find_entropy_whole(df) - find_entropy_of_attribute(df, attr))\n",
        "    \n",
        "    index_of_attr_with_max_IG = np.argmax(IG)\n",
        "\n",
        "    best_attribute = all_attribute_names[index_of_attr_with_max_IG]\n",
        "\n",
        "    return best_attribute"
      ],
      "metadata": {
        "id": "wEJY0xxyqRlx"
      },
      "execution_count": 14,
      "outputs": []
    },
    {
      "cell_type": "code",
      "source": [
        "find_best_attribute_to_divide(df)"
      ],
      "metadata": {
        "colab": {
          "base_uri": "https://localhost:8080/",
          "height": 36
        },
        "id": "pPXs8XheqTIv",
        "outputId": "69bb4858-1fc4-4978-9a80-a7581e4d466d"
      },
      "execution_count": 15,
      "outputs": [
        {
          "output_type": "execute_result",
          "data": {
            "text/plain": [
              "'Outlook'"
            ],
            "application/vnd.google.colaboratory.intrinsic+json": {
              "type": "string"
            }
          },
          "metadata": {},
          "execution_count": 15
        }
      ]
    },
    {
      "cell_type": "markdown",
      "source": [
        "## Building decision tree"
      ],
      "metadata": {
        "id": "Efkj578mqWgM"
      }
    },
    {
      "cell_type": "code",
      "source": [
        "def buildTree(df, tree=None):\n",
        "\n",
        "    target = df.keys()[-1]\n",
        "\n",
        "    #Get attribute with mximum information gain\n",
        "    node = find_best_attribute_to_divide(df)\n",
        "\n",
        "    # get distinct value of that attribute\n",
        "    attValue = np.unique(df[node])\n",
        "\n",
        "    # Create an empty dictionary to create tree\n",
        "    if tree is None:\n",
        "        tree = {}\n",
        "        tree[node] = {}\n",
        "\n",
        "    # We make loop to construct a tree by calling this function recursively\n",
        "    for value in attValue:\n",
        "\n",
        "        subtable = df[df[node] == value].reset_index(drop=True)\n",
        "        clValue, counts = np.unique(subtable[target], return_counts=True)\n",
        "\n",
        "        if len(counts) == 1: #Checking purity of subset\n",
        "            tree[node][value] = clValue[0]\n",
        "        else:\n",
        "            tree[node][value] = buildTree(subtable) #recursive function call\n",
        "\n",
        "    return tree\n",
        "\n",
        "buildTree(df)"
      ],
      "metadata": {
        "colab": {
          "base_uri": "https://localhost:8080/"
        },
        "id": "V341ByfCqVZN",
        "outputId": "01608ba6-8780-4c28-bdb6-7bd991a45b5e"
      },
      "execution_count": 16,
      "outputs": [
        {
          "output_type": "execute_result",
          "data": {
            "text/plain": [
              "{'Outlook': {'Overcast': 'Yes',\n",
              "  'Rain': {'Wind': {'Strong': 'No', 'Weak': 'Yes'}},\n",
              "  'Sunny': {'Humidity': {'High': 'No', 'Normal': 'Yes'}}}}"
            ]
          },
          "metadata": {},
          "execution_count": 16
        }
      ]
    },
    {
      "cell_type": "markdown",
      "source": [
        "ID3 in its pure form performs no backtracking in its search. Once it selects an attribute to test at a particular level in the tree, it ever back tracks to reconsider this choice. Therefore it is susceptible to the usual risks of hill-climbing search without backtracking: converging to a locally optimal solutions that are not globally optimal."
      ],
      "metadata": {
        "id": "XEVsKdSKqZ3O"
      }
    }
  ]
}